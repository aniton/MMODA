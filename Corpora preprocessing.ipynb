{
 "cells": [
  {
   "cell_type": "markdown",
   "metadata": {},
   "source": [
    "#### For Khanty corpus cutting the audio files to 4 seconds:"
   ]
  },
  {
   "cell_type": "code",
   "execution_count": 113,
   "metadata": {},
   "outputs": [],
   "source": [
    "import audiosegment\n",
    "f = \"35.wav\"\n",
    "seg = audiosegment.from_file(f)\n",
    "dice_len_s = 4\n",
    "slices = seg[100000:].dice(seconds=dice_len_s, zero_pad=True)\n",
    "for i, chunk in enumerate(slices):\n",
    "    out_file = \"M{0}-{1}.wav\".format(os.path.splitext(os.path.basename(f))[0], i)\n",
    "    chunk.export(out_file, format=\"wav\")"
   ]
  },
  {
   "cell_type": "markdown",
   "metadata": {},
   "source": [
    "#### For SHRUTI (the Bengali language) dataset extracting necessary auidio data:"
   ]
  },
  {
   "cell_type": "code",
   "execution_count": 14,
   "metadata": {},
   "outputs": [],
   "source": [
    "import glob\n",
    "import os\n",
    "for count, filename in enumerate(os.listdir(\"SHRUTI_l/FEMALE/\")): \n",
    "        dst =\"F\" + filename \n",
    "        src ='SHRUTI_l/FEMALE/'+ filename\n",
    "        dst ='SHRUTI_l/FEMALE/'+ dst \n",
    "        os.rename(src, dst)\n"
   ]
  },
  {
   "cell_type": "code",
   "execution_count": 15,
   "metadata": {},
   "outputs": [],
   "source": [
    "for count, filename in enumerate(os.listdir(\"SHRUTI_l/MALE/\")): \n",
    "        dst =\"M\" + filename \n",
    "        src ='SHRUTI_l/MALE/'+ filename\n",
    "        dst ='SHRUTI_l/MALE/'+ dst \n",
    "        os.rename(src, dst)"
   ]
  },
  {
   "cell_type": "markdown",
   "metadata": {},
   "source": [
    "#### For TIMIT DR1 (New England dialect) extracting necessary auidio data::"
   ]
  },
  {
   "cell_type": "code",
   "execution_count": 88,
   "metadata": {},
   "outputs": [],
   "source": [
    "for count, filename in enumerate(os.listdir(\"TIMIT_DR1/MRJO0/\")): \n",
    "        dst =\"MRJO0\" + filename \n",
    "        src ='TIMIT_DR1/MRJO0/'+ filename\n",
    "        dst ='TIMIT_DR1/MRJO0/'+ dst \n",
    "        os.rename(src, dst)\n",
    "        if not(filename.endswith(\".wav\")):\n",
    "            os.remove(dst)"
   ]
  }
 ],
 "metadata": {
  "kernelspec": {
   "display_name": "Python 3",
   "language": "python",
   "name": "python3"
  },
  "language_info": {
   "codemirror_mode": {
    "name": "ipython",
    "version": 3
   },
   "file_extension": ".py",
   "mimetype": "text/x-python",
   "name": "python",
   "nbconvert_exporter": "python",
   "pygments_lexer": "ipython3",
   "version": "3.8.4"
  }
 },
 "nbformat": 4,
 "nbformat_minor": 4
}
