{
 "cells": [
  {
   "cell_type": "code",
   "execution_count": 1,
   "metadata": {},
   "outputs": [],
   "source": [
    "import glob\n",
    "import os\n",
    "from os.path import join\n",
    "\n",
    "import librosa\n",
    "import matplotlib.pyplot as plt\n",
    "import numpy as np\n",
    "from sklearn.model_selection import train_test_split\n",
    "from tqdm import tqdm"
   ]
  },
  {
   "cell_type": "code",
   "execution_count": 2,
   "metadata": {},
   "outputs": [],
   "source": [
    "def get_name(path):\n",
    "    return os.path.splitext(os.path.split(path)[1])[0]"
   ]
  },
  {
   "cell_type": "code",
   "execution_count": 3,
   "metadata": {
    "scrolled": true
   },
   "outputs": [],
   "source": [
    "def get_y_frames(X, y):\n",
    "    y_res = []\n",
    "    for i in range(len(y)):\n",
    "        y_res.append(np.ones(X[i].shape[0]) * y[i])\n",
    "\n",
    "    y_res = np.hstack(y_res)\n",
    "    return y_res.astype(np.bool)\n",
    "\n",
    "\n",
    "def extract_male_female(X, y):\n",
    "    y_frames = get_y_frames(X, y)\n",
    "    X_frames = np.vstack(X)\n",
    "\n",
    "    X_male = X_frames[y_frames]\n",
    "    X_female = X_frames[~y_frames]\n",
    "\n",
    "    return X_male, X_female\n"
   ]
  },
  {
   "cell_type": "code",
   "execution_count": 4,
   "metadata": {},
   "outputs": [],
   "source": [
    "from sklearn.mixture import GaussianMixture\n",
    "\n",
    "def fit_gmm(X_male, X_female, n_components, cov_type):\n",
    "    gmm_male = GaussianMixture(n_components=n_components, covariance_type=cov_type, n_init=3, max_iter=1000, reg_covar=1e-3)\n",
    "    gmm_female = GaussianMixture(n_components=n_components, covariance_type=cov_type, n_init=3, max_iter=1000, reg_covar=1e-3)\n",
    "\n",
    "    gmm_male.fit(X_male)\n",
    "    gmm_female.fit(X_female)\n",
    "    return gmm_male, gmm_female\n",
    "\n",
    "\n",
    "def predict_gmm(gmm_male, gmm_female, X_test):\n",
    "    n_frames = X_test[0].shape[0]\n",
    "\n",
    "    X_frames = np.vstack(X_test)\n",
    "    log_prob_male_frames = gmm_male.score_samples(X_frames)\n",
    "    log_prob_female_frames = gmm_female.score_samples(X_frames)\n",
    "\n",
    "    log_prob_male = np.zeros(len(X_test))\n",
    "    log_prob_female = np.zeros(len(X_test))\n",
    "\n",
    "    idx = 0\n",
    "    for i in range(len(X_test)):\n",
    "        log_prob_male[i] = log_prob_male_frames[idx:idx + X_test[i].shape[0]].sum()\n",
    "        log_prob_female[i] = log_prob_female_frames[idx:idx + X_test[i].shape[0]].sum()\n",
    "        idx += X_test[i].shape[0]\n",
    "\n",
    "    prediction = log_prob_male > log_prob_female\n",
    "    return prediction\n"
   ]
  },
  {
   "cell_type": "code",
   "execution_count": 5,
   "metadata": {},
   "outputs": [],
   "source": [
    "def fit_predict(mfcc_list, labels_list, test_size=0.33, n_components=20, cov_type='diag', random_state=42):\n",
    "    X_train, X_test, y_train, y_test = train_test_split(mfcc_list, labels_list, test_size=test_size,\n",
    "                                                            stratify=labels_list)\n",
    "    y_train = np.array(y_train) == 'M'\n",
    "    y_test = np.array(y_test) == 'M'\n",
    "\n",
    "    X_train_male, X_train_female = extract_male_female(X_train, y_train)\n",
    "    gmm_male, gmm_female = fit_gmm(X_train_male, X_train_female, n_components, cov_type)\n",
    "    y_pred = predict_gmm(gmm_male, gmm_female, X_test)\n",
    "\n",
    "    return y_test, y_pred\n",
    "\n",
    "\n",
    "def calc_metrics(y_test, y_pred, metrics, metrics_names):\n",
    "    res = dict()\n",
    "    for i in range(len(metrics)):\n",
    "        res[metrics_names[i]] = metrics[i](y_test, y_pred)\n",
    "\n",
    "    return res"
   ]
  },
  {
   "cell_type": "code",
   "execution_count": 6,
   "metadata": {},
   "outputs": [],
   "source": [
    "def cross_val(mfcc_list, labels_list, random_state_list, metrics, metrics_names, test_size=0.33, n_components=20, cov_type='spherical'):\n",
    "    stats = None\n",
    "    for random_state in random_state_list:\n",
    "        y_test, y_pred = fit_predict(mfcc_list, labels_list, test_size, n_components, cov_type, random_state)\n",
    "        if stats is None:\n",
    "            stats = calc_metrics(y_test, y_pred, metrics, metrics_names)\n",
    "        else:\n",
    "            cur_stats = calc_metrics(y_test, y_pred, metrics, metrics_names)\n",
    "            for metric_name in metrics_names:\n",
    "                stats[metric_name] += cur_stats[metric_name]\n",
    "\n",
    "    for key in stats.keys():\n",
    "        stats[key] /= len(random_state_list)\n",
    "\n",
    "    return stats"
   ]
  },
  {
   "cell_type": "code",
   "execution_count": 7,
   "metadata": {},
   "outputs": [],
   "source": [
    "from sklearn.metrics import accuracy_score\n",
    "\n",
    "def male_acc(y_test, y_pred):\n",
    "    idx = y_test == 1\n",
    "    return accuracy_score(y_test[idx], y_pred[idx])\n",
    "\n",
    "\n",
    "def female_acc(y_test, y_pred):\n",
    "    idx = y_test == 0\n",
    "    return accuracy_score(y_test[idx], y_pred[idx])"
   ]
  },
  {
   "cell_type": "code",
   "execution_count": 8,
   "metadata": {},
   "outputs": [],
   "source": [
    "def cross_val_many(data_path, n_mfcc_many, random_state_list,\n",
    "        metrics, metrics_names, test_size=0.33, n_components=20, cov_type='spherical'):\n",
    "\n",
    "    res_stats = dict()\n",
    "    for n_mfcc in n_mfcc_many:\n",
    "        mfcc_list = []\n",
    "        labels_list = []\n",
    "        for path in tqdm(data_path):\n",
    "            y, sr = librosa.load(path)\n",
    "            mfcc = librosa.feature.mfcc(y=y, sr=sr, n_mfcc=n_mfcc).T\n",
    "            mfcc_list.append(mfcc)\n",
    "            labels_list.append(get_name(path)[0])\n",
    "\n",
    "        res_stats[n_mfcc] = cross_val(mfcc_list, labels_list, random_state_list, metrics, metrics_names, test_size, n_components, cov_type)\n",
    "    \n",
    "    return res_stats"
   ]
  },
  {
   "cell_type": "code",
   "execution_count": 9,
   "metadata": {},
   "outputs": [],
   "source": [
    "def cross_val_many_datasets(dataset_names, n_mfcc_many, random_state_list,\n",
    "        metrics, metrics_names, test_size=0.33, n_components=20, cov_type='spherical'):\n",
    "    \n",
    "    res_stats = dict()\n",
    "    for dataset_name in dataset_names:\n",
    "        paths = sorted(glob.glob('data/' + dataset_name + '/*.wav'))\n",
    "        res_stats[dataset_name] = cross_val_many(paths, n_mfcc_many, random_state_list,\n",
    "                            metrics, metrics_names, test_size, n_components, cov_type)\n",
    "\n",
    "    return res_stats"
   ]
  },
  {
   "cell_type": "code",
   "execution_count": 10,
   "metadata": {},
   "outputs": [],
   "source": [
    "np.random.seed(42)\n",
    "random_state_list = np.random.randint(0, 1000000, size=5)"
   ]
  },
  {
   "cell_type": "code",
   "execution_count": 11,
   "metadata": {},
   "outputs": [],
   "source": [
    "metrics = [accuracy_score, male_acc, female_acc]\n",
    "metrics_names = ['Accuracy', 'Male Accuracy', 'Female Accuracy']"
   ]
  },
  {
   "cell_type": "code",
   "execution_count": 12,
   "metadata": {},
   "outputs": [],
   "source": [
    "dataset_names = ['khanty_4', 'SHRUTI_small', 'TIMIT_DR1']"
   ]
  },
  {
   "cell_type": "code",
   "execution_count": 13,
   "metadata": {},
   "outputs": [],
   "source": [
    "n_mfcc_many = [13, 20, 26]"
   ]
  },
  {
   "cell_type": "code",
   "execution_count": 14,
   "metadata": {},
   "outputs": [
    {
     "name": "stderr",
     "output_type": "stream",
     "text": [
      "100%|██████████| 520/520 [01:24<00:00,  6.14it/s]\n",
      "100%|██████████| 520/520 [01:19<00:00,  6.55it/s]\n",
      "100%|██████████| 520/520 [01:17<00:00,  6.72it/s]\n",
      "100%|██████████| 539/539 [01:12<00:00,  7.42it/s]\n",
      "100%|██████████| 539/539 [01:18<00:00,  6.91it/s]\n",
      "100%|██████████| 539/539 [01:15<00:00,  7.17it/s]\n",
      "100%|██████████| 490/490 [00:29<00:00, 16.66it/s]\n",
      "100%|██████████| 490/490 [00:30<00:00, 15.95it/s]\n",
      "100%|██████████| 490/490 [00:30<00:00, 15.85it/s]\n"
     ]
    }
   ],
   "source": [
    "stats = cross_val_many_datasets(dataset_names, n_mfcc_many, random_state_list, metrics, metrics_names, test_size=0.33, n_components=15)"
   ]
  },
  {
   "cell_type": "code",
   "execution_count": 21,
   "metadata": {},
   "outputs": [
    {
     "name": "stdout",
     "output_type": "stream",
     "text": [
      "Results for dataset khanty_4\n",
      "  Num of mfcc features: 13\n",
      "    Accuracy: 0.9465\n",
      "    Male Accuracy: 0.9143\n",
      "    Female Accuracy: 0.9686\n",
      "  Num of mfcc features: 20\n",
      "    Accuracy: 0.9244\n",
      "    Male Accuracy: 0.8971\n",
      "    Female Accuracy: 0.9431\n",
      "  Num of mfcc features: 26\n",
      "    Accuracy: 0.9256\n",
      "    Male Accuracy: 0.9\n",
      "    Female Accuracy: 0.9431\n",
      "Results for dataset SHRUTI_small\n",
      "  Num of mfcc features: 13\n",
      "    Accuracy: 0.9652\n",
      "    Male Accuracy: 0.9372\n",
      "    Female Accuracy: 0.9913\n",
      "  Num of mfcc features: 20\n",
      "    Accuracy: 0.9685\n",
      "    Male Accuracy: 0.9465\n",
      "    Female Accuracy: 0.9891\n",
      "  Num of mfcc features: 26\n",
      "    Accuracy: 0.9652\n",
      "    Male Accuracy: 0.9465\n",
      "    Female Accuracy: 0.9826\n",
      "Results for dataset TIMIT_DR1\n",
      "  Num of mfcc features: 13\n",
      "    Accuracy: 0.9963\n",
      "    Male Accuracy: 0.9961\n",
      "    Female Accuracy: 0.9967\n",
      "  Num of mfcc features: 20\n",
      "    Accuracy: 0.9963\n",
      "    Male Accuracy: 0.998\n",
      "    Female Accuracy: 0.9933\n",
      "  Num of mfcc features: 26\n",
      "    Accuracy: 0.9938\n",
      "    Male Accuracy: 0.9961\n",
      "    Female Accuracy: 0.99\n"
     ]
    }
   ],
   "source": [
    "for dataset in stats.keys():\n",
    "    print('Results for dataset ' + dataset)\n",
    "    for dim in stats[dataset].keys():\n",
    "        print('  Num of mfcc features: ' + str(dim))\n",
    "        for metric in stats[dataset][dim].keys():\n",
    "            print('    %s: %.4g' %(metric, stats[dataset][dim][metric]))"
   ]
  }
 ],
 "metadata": {
  "kernelspec": {
   "display_name": "Python 3",
   "language": "python",
   "name": "python3"
  },
  "language_info": {
   "codemirror_mode": {
    "name": "ipython",
    "version": 3
   },
   "file_extension": ".py",
   "mimetype": "text/x-python",
   "name": "python",
   "nbconvert_exporter": "python",
   "pygments_lexer": "ipython3",
   "version": "3.8.2"
  }
 },
 "nbformat": 4,
 "nbformat_minor": 4
}
