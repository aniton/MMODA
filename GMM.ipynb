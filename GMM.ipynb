{
 "cells": [
  {
   "cell_type": "code",
   "execution_count": 1,
   "metadata": {},
   "outputs": [],
   "source": [
    "import glob\n",
    "import os\n",
    "from os.path import join\n",
    "\n",
    "import librosa\n",
    "import matplotlib.pyplot as plt\n",
    "import numpy as np\n",
    "from sklearn.model_selection import train_test_split\n",
    "from tqdm import tqdm"
   ]
  },
  {
   "cell_type": "code",
   "execution_count": 2,
   "metadata": {},
   "outputs": [],
   "source": [
    "from google_drive_downloader import GoogleDriveDownloader as gdd"
   ]
  },
  {
   "cell_type": "code",
   "execution_count": 3,
   "metadata": {},
   "outputs": [
    {
     "data": {
      "text/plain": [
       "\"\\ngdd.download_file_from_google_drive(\\n    file_id='1Gb0lEZUxqYBHuDaDpLkwd-6x420zdWvE',\\n    dest_path='data/khanty_4.zip'\\n)\\n\""
      ]
     },
     "execution_count": 3,
     "metadata": {},
     "output_type": "execute_result"
    }
   ],
   "source": [
    "'''\n",
    "gdd.download_file_from_google_drive(\n",
    "    file_id='1Gb0lEZUxqYBHuDaDpLkwd-6x420zdWvE',\n",
    "    dest_path='data/khanty_4.zip'\n",
    ")\n",
    "'''"
   ]
  },
  {
   "cell_type": "code",
   "execution_count": 4,
   "metadata": {},
   "outputs": [],
   "source": [
    "#!unzip data/khanty_4.zip -d khanty_4"
   ]
  },
  {
   "cell_type": "code",
   "execution_count": 5,
   "metadata": {},
   "outputs": [],
   "source": [
    "def get_name(path):\n",
    "    return os.path.splitext(os.path.split(path)[1])[0]"
   ]
  },
  {
   "cell_type": "code",
   "execution_count": 6,
   "metadata": {},
   "outputs": [],
   "source": [
    "paths = sorted(glob.glob('khanty_4/*.wav'))"
   ]
  },
  {
   "cell_type": "code",
   "execution_count": 7,
   "metadata": {},
   "outputs": [
    {
     "name": "stderr",
     "output_type": "stream",
     "text": [
      "100%|██████████| 520/520 [01:20<00:00,  6.42it/s]\n"
     ]
    }
   ],
   "source": [
    "mfcc_list = []\n",
    "labels_list = []\n",
    "for path in tqdm(paths):\n",
    "    y, sr = librosa.load(path)\n",
    "    mfcc = librosa.feature.mfcc(y=y, sr=sr, n_mfcc=26).T\n",
    "    mfcc_list.append(mfcc)\n",
    "    labels_list.append(get_name(path)[0])"
   ]
  },
  {
   "cell_type": "code",
   "execution_count": 85,
   "metadata": {
    "scrolled": true
   },
   "outputs": [],
   "source": [
    "def get_y_frames(X, y):\n",
    "    n_frames = X[0].shape[0]\n",
    "    y_res = np.vstack([y] * n_frames).T.flatten()\n",
    "    return y_res\n",
    "\n",
    "\n",
    "def extract_male_female(X, y):\n",
    "    y_frames = get_y_frames(X, y)\n",
    "    X_frames = np.vstack(X)\n",
    "\n",
    "    X_male = X_frames[y_frames]\n",
    "    X_female = X_frames[~y_frames]\n",
    "\n",
    "    return X_male, X_female\n"
   ]
  },
  {
   "cell_type": "code",
   "execution_count": 93,
   "metadata": {},
   "outputs": [],
   "source": [
    "from sklearn.mixture import GaussianMixture\n",
    "\n",
    "def fit_gmm(X_male, X_female, n_components, cov_type):\n",
    "    gmm_male = GaussianMixture(n_components=n_components, covariance_type=cov_type, n_init=3, max_iter=1000, reg_covar=1e-3)\n",
    "    gmm_female = GaussianMixture(n_components=n_components, covariance_type=cov_type, n_init=3, max_iter=1000, reg_covar=1e-3)\n",
    "\n",
    "    gmm_male.fit(X_male)\n",
    "    gmm_female.fit(X_female)\n",
    "    return gmm_male, gmm_female\n",
    "\n",
    "\n",
    "def predict_gmm(gmm_male, gmm_female, X_test):\n",
    "    n_frames = X_test[0].shape[0]\n",
    "\n",
    "    X_frames = np.vstack(X_test)\n",
    "    log_prob_male = gmm_male.score_samples(X_frames)\n",
    "    log_prob_female = gmm_female.score_samples(X_frames)\n",
    "\n",
    "    log_prob_male = log_prob_male.reshape(-1, n_frames).sum(axis=1)\n",
    "    log_prob_female = log_prob_female.reshape(-1, n_frames).sum(axis=1)\n",
    "\n",
    "    prediction = log_prob_male > log_prob_female\n",
    "    return prediction\n"
   ]
  },
  {
   "cell_type": "code",
   "execution_count": 94,
   "metadata": {},
   "outputs": [],
   "source": [
    "def fit_predict(mfcc_list, labels_list, test_size=0.33, n_components=20, cov_type='diag', random_state=42):\n",
    "    X_train, X_test, y_train, y_test = train_test_split(mfcc_list, labels_list, test_size=test_size,\n",
    "                                                            stratify=labels_list)\n",
    "    y_train = np.array(y_train) == 'M'\n",
    "    y_test = np.array(y_test) == 'M'\n",
    "\n",
    "    X_train_male, X_train_female = extract_male_female(X_train, y_train)\n",
    "    gmm_male, gmm_female = fit_gmm(X_train_male, X_train_female, n_components, cov_type)\n",
    "    y_pred = predict_gmm(gmm_male, gmm_female, X_test)\n",
    "\n",
    "    return y_test, y_pred\n",
    "\n",
    "\n",
    "def calc_metrics(y_test, y_pred, metrics, metrics_names):\n",
    "    res = dict()\n",
    "    for i in range(len(metrics)):\n",
    "        res[metrics_names[i]] = metrics[i](y_test, y_pred)\n",
    "\n",
    "    return res"
   ]
  },
  {
   "cell_type": "code",
   "execution_count": 95,
   "metadata": {},
   "outputs": [],
   "source": [
    "def cross_val(mfcc_list, labels_list, random_state_list, metrics, metrics_names, test_size=0.33, n_components=20, cov_type='spherical'):\n",
    "    stats = None\n",
    "    for random_state in random_state_list:\n",
    "        y_test, y_pred = fit_predict(mfcc_list, labels_list, test_size, n_components, cov_type, random_state)\n",
    "        if stats is None:\n",
    "            stats = calc_metrics(y_test, y_pred, metrics, metrics_names)\n",
    "        else:\n",
    "            cur_stats = calc_metrics(y_test, y_pred, metrics, metrics_names)\n",
    "            for metric_name in metrics_names:\n",
    "                stats[metric_name] += cur_stats[metric_name]\n",
    "\n",
    "    for key in stats.keys():\n",
    "        stats[key] /= len(random_state_list)\n",
    "\n",
    "    return stats"
   ]
  },
  {
   "cell_type": "code",
   "execution_count": 96,
   "metadata": {},
   "outputs": [],
   "source": [
    "np.random.seed(42)\n",
    "random_state_list = np.random.randint(0, 1000000, size=20)"
   ]
  },
  {
   "cell_type": "code",
   "execution_count": 97,
   "metadata": {},
   "outputs": [],
   "source": [
    "from sklearn.metrics import accuracy_score, precision_score, recall_score, f1_score\n",
    "\n",
    "metrics = [accuracy_score, precision_score, recall_score, f1_score]\n",
    "metrics_names = ['Accuracy', 'Recision', 'Precall', 'F-measure']"
   ]
  },
  {
   "cell_type": "code",
   "execution_count": 100,
   "metadata": {},
   "outputs": [],
   "source": [
    "stats = cross_val(mfcc_list, labels_list, random_state_list, metrics, metrics_names, n_components=10, cov_type='diag')"
   ]
  },
  {
   "cell_type": "code",
   "execution_count": 101,
   "metadata": {},
   "outputs": [
    {
     "data": {
      "text/plain": [
       "{'Accuracy': 0.9537790697674419,\n",
       " 'Recision': 0.9491428683549803,\n",
       " 'Precall': 0.9371428571428572,\n",
       " 'F-measure': 0.9428521203756886}"
      ]
     },
     "execution_count": 101,
     "metadata": {},
     "output_type": "execute_result"
    }
   ],
   "source": [
    "stats"
   ]
  },
  {
   "cell_type": "code",
   "execution_count": null,
   "metadata": {},
   "outputs": [],
   "source": []
  }
 ],
 "metadata": {
  "kernelspec": {
   "display_name": "Python 3",
   "language": "python",
   "name": "python3"
  },
  "language_info": {
   "codemirror_mode": {
    "name": "ipython",
    "version": 3
   },
   "file_extension": ".py",
   "mimetype": "text/x-python",
   "name": "python",
   "nbconvert_exporter": "python",
   "pygments_lexer": "ipython3",
   "version": "3.8.2"
  }
 },
 "nbformat": 4,
 "nbformat_minor": 4
}
