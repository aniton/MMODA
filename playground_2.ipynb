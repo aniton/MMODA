{
 "cells": [
  {
   "cell_type": "code",
   "execution_count": 1,
   "metadata": {},
   "outputs": [],
   "source": [
    "import glob\n",
    "import os\n",
    "from os.path import join\n",
    "\n",
    "import librosa\n",
    "import matplotlib.pyplot as plt\n",
    "import numpy as np\n",
    "from sklearn.model_selection import train_test_split\n",
    "from tqdm import tqdm"
   ]
  },
  {
   "cell_type": "code",
   "execution_count": 13,
   "metadata": {},
   "outputs": [],
   "source": [
    "def get_features_filtered_by_label(features, labels, selected_label):\n",
    "    return [feature for feature, label in zip(features, labels) if label == selected_label]\n",
    "\n",
    "def get_k_main_eigenvectors(features, labels, selected_label, k=1):\n",
    "    selected_features = np.concatenate(get_features_filtered_by_label(features, labels, selected_label))\n",
    "    _, _, vh = np.linalg.svd(normalize(selected_features), full_matrices=False)\n",
    "    return vh[:k]\n",
    "\n",
    "def get_name(path):\n",
    "    return os.path.splitext(os.path.split(path)[1])[0]\n",
    "\n",
    "def normalize(x):\n",
    "    return x - x.mean()"
   ]
  },
  {
   "cell_type": "code",
   "execution_count": 3,
   "metadata": {},
   "outputs": [],
   "source": [
    "paths = sorted(glob.glob('datasets/khanty_4/*.wav'))"
   ]
  },
  {
   "cell_type": "markdown",
   "metadata": {},
   "source": [
    "# First variant: \n",
    "1. split train/test for whole files (not single vectors)\n",
    "2. calculate SVD for both train and test"
   ]
  },
  {
   "cell_type": "code",
   "execution_count": 19,
   "metadata": {},
   "outputs": [
    {
     "name": "stderr",
     "output_type": "stream",
     "text": [
      "100%|██████████| 520/520 [02:21<00:00,  3.67it/s]\n"
     ]
    }
   ],
   "source": [
    "mfcc_list = []\n",
    "labels_list = []\n",
    "for path in tqdm(paths):\n",
    "    y, sr = librosa.load(path)\n",
    "    mfcc = librosa.feature.mfcc(y=y, sr=sr, n_mfcc=26).T\n",
    "    mfcc_list.append(mfcc)\n",
    "    labels_list.append(get_name(path)[0])"
   ]
  },
  {
   "cell_type": "code",
   "execution_count": 20,
   "metadata": {},
   "outputs": [],
   "source": [
    "X_train, X_test, y_train, y_test = train_test_split(mfcc_list, labels_list,\n",
    "                                                    test_size=0.33, random_state=42, stratify=labels_list)"
   ]
  },
  {
   "cell_type": "code",
   "execution_count": 21,
   "metadata": {},
   "outputs": [],
   "source": [
    "features = np.concatenate(get_features_filtered_by_label(X_train, y_train, 'F'))\n",
    "_, _, vh_female = np.linalg.svd(normalize(features), full_matrices=False)\n",
    "eigen_female = vh_female[0]\n",
    "\n",
    "features = np.concatenate(get_features_filtered_by_label(X_train, y_train, 'M'))\n",
    "_, _, vh_male = np.linalg.svd(normalize(features), full_matrices=False)\n",
    "eigen_male = vh_male[0]"
   ]
  },
  {
   "cell_type": "code",
   "execution_count": 25,
   "metadata": {},
   "outputs": [
    {
     "name": "stdout",
     "output_type": "stream",
     "text": [
      "0.765\n"
     ]
    }
   ],
   "source": [
    "counter = 0\n",
    "features_test = get_features_filtered_by_label(X_test, y_test, 'F')\n",
    "for feature in features_test:\n",
    "    _, _, vh_test = np.linalg.svd(normalize(feature), full_matrices=False)\n",
    "    eigen_test = vh_test[0]\n",
    "    dist_to_female = np.linalg.norm(eigen_test - eigen_female, ord=2)\n",
    "    dist_to_male = np.linalg.norm(eigen_test - eigen_male, ord=2)\n",
    "    correct = dist_to_female < dist_to_male\n",
    "#     print(f'{dist_to_female:.3e}, {dist_to_male:.3e}, {correct}')\n",
    "    if correct:\n",
    "        counter += 1\n",
    "print(f'{counter/len(features_test):.3f}')"
   ]
  },
  {
   "cell_type": "code",
   "execution_count": 26,
   "metadata": {},
   "outputs": [
    {
     "name": "stdout",
     "output_type": "stream",
     "text": [
      "0.457\n"
     ]
    }
   ],
   "source": [
    "counter = 0\n",
    "features_test = get_features_filtered_by_label(X_test, y_test, 'M')\n",
    "for feature in features_test:\n",
    "    _, _, vh_test = np.linalg.svd(normalize(feature), full_matrices=False)\n",
    "    eigen_test = vh_test[0]\n",
    "    dist_to_female = np.linalg.norm(eigen_test - eigen_female, ord=2)\n",
    "    dist_to_male = np.linalg.norm(eigen_test - eigen_male, ord=2)\n",
    "    correct = dist_to_female > dist_to_male\n",
    "#     print(f'{dist_to_female:.3e}, {dist_to_male:.3e}, {correct}')\n",
    "    if correct:\n",
    "        counter += 1\n",
    "print(f'{counter/len(features_test):.3f}')"
   ]
  },
  {
   "cell_type": "code",
   "execution_count": null,
   "metadata": {},
   "outputs": [],
   "source": []
  }
 ],
 "metadata": {
  "kernelspec": {
   "display_name": "Python 3",
   "language": "python",
   "name": "python3"
  },
  "language_info": {
   "codemirror_mode": {
    "name": "ipython",
    "version": 3
   },
   "file_extension": ".py",
   "mimetype": "text/x-python",
   "name": "python",
   "nbconvert_exporter": "python",
   "pygments_lexer": "ipython3",
   "version": "3.8.5"
  }
 },
 "nbformat": 4,
 "nbformat_minor": 4
}
