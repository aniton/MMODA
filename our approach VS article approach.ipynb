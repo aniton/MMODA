{
 "cells": [
  {
   "cell_type": "code",
   "execution_count": 1,
   "metadata": {},
   "outputs": [],
   "source": [
    "import glob\n",
    "import os\n",
    "from os.path import join\n",
    "import librosa\n",
    "import matplotlib.pyplot as plt\n",
    "import numpy as np\n",
    "from sklearn.model_selection import train_test_split\n",
    "from tqdm import tqdm"
   ]
  },
  {
   "cell_type": "code",
   "execution_count": 10,
   "metadata": {},
   "outputs": [],
   "source": [
    "import tensorly as tl\n",
    "from tensorly.decomposition import symmetric_parafac_power_iteration"
   ]
  },
  {
   "cell_type": "code",
   "execution_count": 2,
   "metadata": {},
   "outputs": [],
   "source": [
    "# def cosine_distance(x, y):\n",
    "#     return (1 - np.dot(x, y) / (np.linalg.norm(y) * np.linalg.norm(x))) * .5\n",
    "\n",
    "def cosine_distance(x, y):\n",
    "    return 1 - np.square(np.dot(x, y)) / (np.dot(x, x) * np.dot(y, y))\n",
    "\n",
    "\n",
    "def get_features_filtered_by_label(features, labels, selected_label):\n",
    "    return [feature for feature, label in zip(features, labels) if label == selected_label]\n",
    "\n",
    "def get_k_main_eigenvectors(X, k=1):\n",
    "    m1 = X.mean(axis=0)\n",
    "    corr_matrix = np.cov(X.T)\n",
    "    corr_eigens = np.linalg.eigvalsh(corr_matrix)\n",
    "    m2 = corr_matrix + np.outer(m1, m1) - corr_eigens[0] * np.eye(corr_matrix.shape[0])\n",
    "    w, v = np.linalg.eigh(m2)\n",
    "    return v[:, -k:].T\n",
    "\n",
    "def whiten(m2, eps=1e-18):\n",
    "   # eigenvalue decomposition of the covariance matrix\n",
    "   d, V = np.linalg.eigh(m2)\n",
    "\n",
    "   # a fudge factor can be used so that eigenvectors associated with\n",
    "   # small eigenvalues do not get overamplified.\n",
    "   D = np.diag(1. / np.sqrt(d+eps))\n",
    "\n",
    "   # whitening matrix\n",
    "   W = np.dot(V, D)\n",
    "\n",
    "   return W\n",
    "\n",
    "def get_k_main_eigenvectors_cpd(X, k=1):\n",
    "    m1 = X.mean(axis=0)\n",
    "    N = X.shape[1]\n",
    "    corr_matrix = np.cov(X.T)\n",
    "    corr_eigens = np.linalg.eigvalsh(corr_matrix)\n",
    "    m2 = corr_matrix + np.outer(m1, m1) - corr_eigens[0] * np.eye(corr_matrix.shape[0], dtype='float64')\n",
    "    m3 = np.einsum('ij,ik,il->jkl',X,X,X) / N\n",
    "    basis_sum = np.einsum('ij,ik,il->jkl',  m1[None, :], np.eye(N), np.eye(N)) + \\\n",
    "            np.einsum('ij,ik,il->jkl', np.eye(N),  m1[None, :], np.eye(N)) + \\\n",
    "            np.einsum('ij,ik,il->jkl', np.eye(N), np.eye(N),  m1[None, :])\n",
    "    # basis_sum = np.einsum('j,ik,il->jkl',  m1, np.eye(N), np.eye(N)) + \\\n",
    "    #         np.einsum('ij,k,il->jkl', np.eye(N),  m1, np.eye(N)) + \\\n",
    "    #         np.einsum('ij,ik,l->jkl', np.eye(N), np.eye(N),  m1)\n",
    "    m3 = m3 - corr_eigens[0] * basis_sum\n",
    "    w = whiten(m2)\n",
    "    # m3_whiten = tl.tucker_to_tensor((m3, [w, w, w]))\n",
    "    m3_whiten = np.einsum('nmp,nk,ml,pd->kld', m3, w, w, w)\n",
    "    lambdas, V = symmetric_parafac_power_iteration(m3_whiten, rank=k, n_iteration=20)\n",
    "    A = np.linalg.pinv(w.T) @ V @ np.diag(lambdas)\n",
    "    return A.T # V.T\n",
    "\n",
    "\n",
    "def get_name(path):\n",
    "    return os.path.splitext(os.path.split(path)[1])[0]\n",
    "\n",
    "# --- test functions ---\n",
    "\n",
    "def test(eigen_female, eigen_male, features_test, is_correct_function, debug=False, **kwargs):\n",
    "    counter = 0\n",
    "    num_eigenvectors = kwargs['num_eigenvectors']\n",
    "    for feature in features_test:\n",
    "        eigen_test = get_k_main_eigenvectors(feature, k=num_eigenvectors)\n",
    "        dist_to_female = min([np.square(ete - etr).sum() for etr, ete in zip(eigen_female, eigen_test)])\n",
    "        dist_to_male = min([np.square(ete - etr).sum() for etr, ete in zip(eigen_male, eigen_test)])\n",
    "        correct = is_correct_function(dist_to_female, dist_to_male)\n",
    "        if correct:\n",
    "            counter += 1\n",
    "    if debug:\n",
    "        print(f'{dist_to_female:.3e}, {dist_to_male:.3e}, {correct}')\n",
    "    return counter / len(features_test)\n",
    "\n",
    "def test_cosine(eigen_female, eigen_male, features_test, is_correct_function, debug=False, **kwargs):\n",
    "    counter = 0\n",
    "    for feature in features_test:\n",
    "        dist_to_female = sum([min([cosine_distance(x, etr)\n",
    "                                   for etr in eigen_female]) for x in feature])\n",
    "        dist_to_male = sum([min([cosine_distance(x, etr)\n",
    "                                   for etr in eigen_male]) for x in feature])\n",
    "        correct = is_correct_function(dist_to_female, dist_to_male)\n",
    "        if correct:\n",
    "            counter += 1\n",
    "    if debug:\n",
    "        print(f'{dist_to_female:.3e}, {dist_to_male:.3e}, {correct}')\n",
    "    return counter / len(features_test)\n",
    "\n",
    "\n",
    "# -----------------------------------------------------------------\n",
    "# def normalize(x):\n",
    "#     return x - x.mean()\n",
    "\n",
    "def normalize(x):\n",
    "    return x / np.linalg.norm(x, ord=2, axis=1, keepdims=True)\n",
    "\n",
    "# check normalize\n",
    "def get_k_main_eigenvectors_svd(features, k=1):\n",
    "    _, _, vh = np.linalg.svd(normalize(features), full_matrices=False)\n",
    "    return vh[:k]"
   ]
  },
  {
   "cell_type": "markdown",
   "metadata": {},
   "source": [
    "#### CV for our approach:"
   ]
  },
  {
   "cell_type": "code",
   "execution_count": 3,
   "metadata": {},
   "outputs": [],
   "source": [
    "def cross_validate(mfcc_list, labels_list, random_state_list, test_function, num_eigenvectors=1):\n",
    "    results = {}\n",
    "    accuracy_list = []\n",
    "    accuracy_list_female = []\n",
    "    accuracy_list_male = []\n",
    "    for random_state in random_state_list:\n",
    "        X_train, X_test, y_train, y_test = train_test_split(mfcc_list, labels_list, test_size=0.33,\n",
    "                                                            random_state=random_state, stratify=labels_list)\n",
    "\n",
    "        features = np.concatenate(get_features_filtered_by_label(X_train, y_train, 'F'))\n",
    "        eigen_female = get_k_main_eigenvectors(features, k=num_eigenvectors)\n",
    "\n",
    "        features = np.concatenate(get_features_filtered_by_label(X_train, y_train, 'M'))\n",
    "        eigen_male = get_k_main_eigenvectors(features, k=num_eigenvectors)\n",
    "\n",
    "        features_test = get_features_filtered_by_label(X_test, y_test, 'F')\n",
    "        is_correct_function = lambda x, y: x < y\n",
    "        accuracy_female = test_function(eigen_female, eigen_male, features_test, is_correct_function,\n",
    "                                        num_eigenvectors=num_eigenvectors)\n",
    "\n",
    "        features_test = get_features_filtered_by_label(X_test, y_test, 'M')\n",
    "        is_correct_function = lambda x, y: x > y\n",
    "        accuracy_male = test_function(eigen_female, eigen_male, features_test, is_correct_function,\n",
    "                                     num_eigenvectors=num_eigenvectors)\n",
    "\n",
    "#         print(f'f: {accuracy_female:.3f}, m: {accuracy_male:.3f}')\n",
    "        accuracy_list.append((accuracy_female + accuracy_male) * .5)\n",
    "        accuracy_list_female.append(accuracy_female)\n",
    "        accuracy_list_male.append(accuracy_male)\n",
    "        \n",
    "    results['mean'] = np.mean(accuracy_list)\n",
    "    results['mean_female'] = np.mean(accuracy_list_female)\n",
    "    results['mean_male'] = np.mean(accuracy_list_male)\n",
    "    \n",
    "    results['std'] = np.std(accuracy_list)\n",
    "    results['std_female'] = np.std(accuracy_list_female)\n",
    "    results['std_male'] = np.std(accuracy_list_male)\n",
    "    \n",
    "    return results\n"
   ]
  },
  {
   "cell_type": "markdown",
   "metadata": {},
   "source": [
    "#### CV for the article approach:"
   ]
  },
  {
   "cell_type": "code",
   "execution_count": 4,
   "metadata": {},
   "outputs": [],
   "source": [
    "def cross_validate_article(mfcc_list, labels_list, random_state_list, test_function, num_eigenvectors=1):\n",
    "    results = {}\n",
    "    accuracy_list = []\n",
    "    accuracy_list_female = []\n",
    "    accuracy_list_male = []\n",
    "    for random_state in random_state_list:\n",
    "        X_train, X_test, y_train, y_test = train_test_split(mfcc_list, labels_list, test_size=0.33,\n",
    "                                                            random_state=random_state, stratify=labels_list)\n",
    "\n",
    "        features = np.concatenate(get_features_filtered_by_label(X_train, y_train, 'F'))\n",
    "        eigen_female = get_k_main_eigenvectors_cpd(features, k=num_eigenvectors)\n",
    "\n",
    "        features = np.concatenate(get_features_filtered_by_label(X_train, y_train, 'M'))\n",
    "        eigen_male = get_k_main_eigenvectors_cpd(features, k=num_eigenvectors)\n",
    "\n",
    "        features_test = get_features_filtered_by_label(X_test, y_test, 'F')\n",
    "        is_correct_function = lambda x, y: x < y\n",
    "        accuracy_female = test_function(eigen_female, eigen_male, features_test, is_correct_function,\n",
    "                                        num_eigenvectors=num_eigenvectors)\n",
    "\n",
    "        features_test = get_features_filtered_by_label(X_test, y_test, 'M')\n",
    "        is_correct_function = lambda x, y: x > y\n",
    "        accuracy_male = test_function(eigen_female, eigen_male, features_test, is_correct_function,\n",
    "                                     num_eigenvectors=num_eigenvectors)\n",
    "\n",
    "#         print(f'f: {accuracy_female:.3f}, m: {accuracy_male:.3f}')\n",
    "        accuracy_list.append((accuracy_female + accuracy_male) * .5)\n",
    "        accuracy_list_female.append(accuracy_female)\n",
    "        accuracy_list_male.append(accuracy_male)\n",
    "        \n",
    "    results['mean'] = np.mean(accuracy_list)\n",
    "    results['mean_female'] = np.mean(accuracy_list_female)\n",
    "    results['mean_male'] = np.mean(accuracy_list_male)\n",
    "    \n",
    "    results['std'] = np.std(accuracy_list)\n",
    "    results['std_female'] = np.std(accuracy_list_female)\n",
    "    results['std_male'] = np.std(accuracy_list_male)\n",
    "    \n",
    "    return results"
   ]
  },
  {
   "cell_type": "markdown",
   "metadata": {},
   "source": [
    "## Khanty dataset (309 F, 211 M, 520 total)"
   ]
  },
  {
   "cell_type": "code",
   "execution_count": 5,
   "metadata": {},
   "outputs": [],
   "source": [
    "paths = sorted(glob.glob('khanty_4/*.wav'))"
   ]
  },
  {
   "cell_type": "markdown",
   "metadata": {},
   "source": [
    "#### Experiments with different sizes of feature vectors"
   ]
  },
  {
   "cell_type": "markdown",
   "metadata": {},
   "source": [
    "#### 26:"
   ]
  },
  {
   "cell_type": "code",
   "execution_count": 6,
   "metadata": {},
   "outputs": [
    {
     "name": "stderr",
     "output_type": "stream",
     "text": [
      "100%|██████████| 520/520 [02:49<00:00,  3.07it/s]\n"
     ]
    }
   ],
   "source": [
    "mfcc_list = []\n",
    "labels_list = []\n",
    "for path in tqdm(paths):\n",
    "    y, sr = librosa.load(path)\n",
    "    mfcc = librosa.feature.mfcc(y=y, sr=sr, n_mfcc=26).T\n",
    "    mfcc_list.append(mfcc)\n",
    "    labels_list.append(get_name(path)[0])"
   ]
  },
  {
   "cell_type": "code",
   "execution_count": 7,
   "metadata": {},
   "outputs": [],
   "source": [
    "np.random.seed(122)\n",
    "random_state_list = np.random.randint(0, 1000000, size=25)"
   ]
  },
  {
   "cell_type": "markdown",
   "metadata": {},
   "source": [
    "#### Experiments with different number of eigenvectors (1, 2, 4):"
   ]
  },
  {
   "cell_type": "markdown",
   "metadata": {},
   "source": [
    "### Our approach, 1 ev"
   ]
  },
  {
   "cell_type": "code",
   "execution_count": 8,
   "metadata": {},
   "outputs": [
    {
     "name": "stdout",
     "output_type": "stream",
     "text": [
      "AV mean: 0.829 std: 0.037\n",
      "F mean: 0.802 std: 0.035\n",
      "M mean: 0.856 std: 0.062\n"
     ]
    }
   ],
   "source": [
    "results = cross_validate(mfcc_list, labels_list, random_state_list, test_function=test_cosine, num_eigenvectors=1)\n",
    "print(f\"AV mean: {results['mean']:.3f} std: {results['std']:.3f}\")\n",
    "print(f\"F mean: {results['mean_female']:.3f} std: {results['std_female']:.3f}\")\n",
    "print(f\"M mean: {results['mean_male']:.3f} std: {results['std_male']:.3f}\")"
   ]
  },
  {
   "cell_type": "markdown",
   "metadata": {},
   "source": [
    "### Article approach, 1 ev"
   ]
  },
  {
   "cell_type": "code",
   "execution_count": 11,
   "metadata": {},
   "outputs": [
    {
     "name": "stdout",
     "output_type": "stream",
     "text": [
      "AV mean: 0.840 std: 0.025\n",
      "F mean: 0.828 std: 0.040\n",
      "M mean: 0.852 std: 0.039\n"
     ]
    }
   ],
   "source": [
    "results = cross_validate_article(mfcc_list, labels_list, random_state_list, test_function=test_cosine, num_eigenvectors=1)\n",
    "print(f\"AV mean: {results['mean']:.3f} std: {results['std']:.3f}\")\n",
    "print(f\"F mean: {results['mean_female']:.3f} std: {results['std_female']:.3f}\")\n",
    "print(f\"M mean: {results['mean_male']:.3f} std: {results['std_male']:.3f}\")"
   ]
  },
  {
   "cell_type": "markdown",
   "metadata": {},
   "source": [
    "### Our approach, 2 ev"
   ]
  },
  {
   "cell_type": "code",
   "execution_count": 12,
   "metadata": {},
   "outputs": [
    {
     "name": "stdout",
     "output_type": "stream",
     "text": [
      "AV mean: 0.829 std: 0.038\n",
      "F mean: 0.801 std: 0.035\n",
      "M mean: 0.856 std: 0.062\n"
     ]
    }
   ],
   "source": [
    "results = cross_validate(mfcc_list, labels_list, random_state_list, test_function=test_cosine, num_eigenvectors=2)\n",
    "print(f\"AV mean: {results['mean']:.3f} std: {results['std']:.3f}\")\n",
    "print(f\"F mean: {results['mean_female']:.3f} std: {results['std_female']:.3f}\")\n",
    "print(f\"M mean: {results['mean_male']:.3f} std: {results['std_male']:.3f}\")"
   ]
  },
  {
   "cell_type": "markdown",
   "metadata": {},
   "source": [
    "### Article approach, 2 ev"
   ]
  },
  {
   "cell_type": "code",
   "execution_count": 13,
   "metadata": {},
   "outputs": [
    {
     "name": "stdout",
     "output_type": "stream",
     "text": [
      "AV mean: 0.843 std: 0.022\n",
      "F mean: 0.835 std: 0.038\n",
      "M mean: 0.851 std: 0.038\n"
     ]
    }
   ],
   "source": [
    "results = cross_validate_article(mfcc_list, labels_list, random_state_list, test_function=test_cosine, num_eigenvectors=2)\n",
    "print(f\"AV mean: {results['mean']:.3f} std: {results['std']:.3f}\")\n",
    "print(f\"F mean: {results['mean_female']:.3f} std: {results['std_female']:.3f}\")\n",
    "print(f\"M mean: {results['mean_male']:.3f} std: {results['std_male']:.3f}\")"
   ]
  },
  {
   "cell_type": "markdown",
   "metadata": {},
   "source": [
    "### Our approach, 4 ev"
   ]
  },
  {
   "cell_type": "code",
   "execution_count": 14,
   "metadata": {},
   "outputs": [
    {
     "name": "stdout",
     "output_type": "stream",
     "text": [
      "AV mean: 0.829 std: 0.038\n",
      "F mean: 0.801 std: 0.035\n",
      "M mean: 0.856 std: 0.062\n"
     ]
    }
   ],
   "source": [
    "results = cross_validate(mfcc_list, labels_list, random_state_list, test_function=test_cosine, num_eigenvectors=4)\n",
    "print(f\"AV mean: {results['mean']:.3f} std: {results['std']:.3f}\")\n",
    "print(f\"F mean: {results['mean_female']:.3f} std: {results['std_female']:.3f}\")\n",
    "print(f\"M mean: {results['mean_male']:.3f} std: {results['std_male']:.3f}\")"
   ]
  },
  {
   "cell_type": "markdown",
   "metadata": {},
   "source": [
    "### Article approach, 4 ev"
   ]
  },
  {
   "cell_type": "code",
   "execution_count": 15,
   "metadata": {},
   "outputs": [
    {
     "name": "stdout",
     "output_type": "stream",
     "text": [
      "AV mean: 0.847 std: 0.030\n",
      "F mean: 0.871 std: 0.044\n",
      "M mean: 0.822 std: 0.080\n"
     ]
    }
   ],
   "source": [
    "results = cross_validate_article(mfcc_list, labels_list, random_state_list, test_function=test_cosine, num_eigenvectors=4)\n",
    "print(f\"AV mean: {results['mean']:.3f} std: {results['std']:.3f}\")\n",
    "print(f\"F mean: {results['mean_female']:.3f} std: {results['std_female']:.3f}\")\n",
    "print(f\"M mean: {results['mean_male']:.3f} std: {results['std_male']:.3f}\")"
   ]
  },
  {
   "cell_type": "markdown",
   "metadata": {},
   "source": [
    "#### 20:"
   ]
  },
  {
   "cell_type": "code",
   "execution_count": 16,
   "metadata": {},
   "outputs": [
    {
     "name": "stderr",
     "output_type": "stream",
     "text": [
      "100%|██████████| 520/520 [02:19<00:00,  3.73it/s]\n"
     ]
    }
   ],
   "source": [
    "mfcc_list = []\n",
    "labels_list = []\n",
    "for path in tqdm(paths):\n",
    "    y, sr = librosa.load(path)\n",
    "    mfcc = librosa.feature.mfcc(y=y, sr=sr, n_mfcc=20).T\n",
    "    mfcc_list.append(mfcc)\n",
    "    labels_list.append(get_name(path)[0])"
   ]
  },
  {
   "cell_type": "code",
   "execution_count": 17,
   "metadata": {},
   "outputs": [],
   "source": [
    "np.random.seed(122)\n",
    "random_state_list = np.random.randint(0, 1000000, size=19)"
   ]
  },
  {
   "cell_type": "markdown",
   "metadata": {},
   "source": [
    "#### Experiments with different number of eigenvectors (1 and 4):"
   ]
  },
  {
   "cell_type": "markdown",
   "metadata": {},
   "source": [
    "### Our approach, 1 ev"
   ]
  },
  {
   "cell_type": "code",
   "execution_count": 18,
   "metadata": {},
   "outputs": [
    {
     "name": "stdout",
     "output_type": "stream",
     "text": [
      "AV mean: 0.835 std: 0.038\n",
      "F mean: 0.802 std: 0.041\n",
      "M mean: 0.868 std: 0.052\n"
     ]
    }
   ],
   "source": [
    "results = cross_validate(mfcc_list, labels_list, random_state_list, test_function=test_cosine, num_eigenvectors=1)\n",
    "print(f\"AV mean: {results['mean']:.3f} std: {results['std']:.3f}\")\n",
    "print(f\"F mean: {results['mean_female']:.3f} std: {results['std_female']:.3f}\")\n",
    "print(f\"M mean: {results['mean_male']:.3f} std: {results['std_male']:.3f}\")"
   ]
  },
  {
   "cell_type": "markdown",
   "metadata": {},
   "source": [
    "### Article approach, 1 ev"
   ]
  },
  {
   "cell_type": "code",
   "execution_count": 19,
   "metadata": {},
   "outputs": [
    {
     "name": "stdout",
     "output_type": "stream",
     "text": [
      "AV mean: 0.825 std: 0.029\n",
      "F mean: 0.810 std: 0.038\n",
      "M mean: 0.841 std: 0.044\n"
     ]
    }
   ],
   "source": [
    "results = cross_validate_article(mfcc_list, labels_list, random_state_list, test_function=test_cosine, num_eigenvectors=1)\n",
    "print(f\"AV mean: {results['mean']:.3f} std: {results['std']:.3f}\")\n",
    "print(f\"F mean: {results['mean_female']:.3f} std: {results['std_female']:.3f}\")\n",
    "print(f\"M mean: {results['mean_male']:.3f} std: {results['std_male']:.3f}\")"
   ]
  },
  {
   "cell_type": "markdown",
   "metadata": {},
   "source": [
    "### Our approach, 4 ev"
   ]
  },
  {
   "cell_type": "code",
   "execution_count": 20,
   "metadata": {},
   "outputs": [
    {
     "name": "stdout",
     "output_type": "stream",
     "text": [
      "AV mean: 0.835 std: 0.038\n",
      "F mean: 0.802 std: 0.041\n",
      "M mean: 0.868 std: 0.051\n"
     ]
    }
   ],
   "source": [
    "results = cross_validate(mfcc_list, labels_list, random_state_list, test_function=test_cosine, num_eigenvectors=4)\n",
    "print(f\"AV mean: {results['mean']:.3f} std: {results['std']:.3f}\")\n",
    "print(f\"F mean: {results['mean_female']:.3f} std: {results['std_female']:.3f}\")\n",
    "print(f\"M mean: {results['mean_male']:.3f} std: {results['std_male']:.3f}\")"
   ]
  },
  {
   "cell_type": "markdown",
   "metadata": {},
   "source": [
    "### Article approach, 4 ev"
   ]
  },
  {
   "cell_type": "code",
   "execution_count": 21,
   "metadata": {},
   "outputs": [
    {
     "name": "stdout",
     "output_type": "stream",
     "text": [
      "AV mean: 0.825 std: 0.047\n",
      "F mean: 0.929 std: 0.068\n",
      "M mean: 0.720 std: 0.109\n"
     ]
    }
   ],
   "source": [
    "results = cross_validate_article(mfcc_list, labels_list, random_state_list, test_function=test_cosine, num_eigenvectors=4)\n",
    "print(f\"AV mean: {results['mean']:.3f} std: {results['std']:.3f}\")\n",
    "print(f\"F mean: {results['mean_female']:.3f} std: {results['std_female']:.3f}\")\n",
    "print(f\"M mean: {results['mean_male']:.3f} std: {results['std_male']:.3f}\")"
   ]
  },
  {
   "cell_type": "markdown",
   "metadata": {},
   "source": [
    "#### 13:"
   ]
  },
  {
   "cell_type": "code",
   "execution_count": 22,
   "metadata": {},
   "outputs": [
    {
     "name": "stderr",
     "output_type": "stream",
     "text": [
      "100%|██████████| 520/520 [02:29<00:00,  3.47it/s]\n"
     ]
    }
   ],
   "source": [
    "mfcc_list = []\n",
    "labels_list = []\n",
    "for path in tqdm(paths):\n",
    "    y, sr = librosa.load(path)\n",
    "    mfcc = librosa.feature.mfcc(y=y, sr=sr, n_mfcc=13).T\n",
    "    mfcc_list.append(mfcc)\n",
    "    labels_list.append(get_name(path)[0])"
   ]
  },
  {
   "cell_type": "code",
   "execution_count": 23,
   "metadata": {},
   "outputs": [],
   "source": [
    "np.random.seed(122)\n",
    "random_state_list = np.random.randint(0, 1000000, size=12)"
   ]
  },
  {
   "cell_type": "markdown",
   "metadata": {},
   "source": [
    "#### Experiments with different number of eigenvectors (1 and 4):"
   ]
  },
  {
   "cell_type": "markdown",
   "metadata": {},
   "source": [
    "### Our approach, 1 ev"
   ]
  },
  {
   "cell_type": "code",
   "execution_count": 24,
   "metadata": {},
   "outputs": [
    {
     "name": "stdout",
     "output_type": "stream",
     "text": [
      "AV mean: 0.81814 std: 0.037\n",
      "F mean: 0.76961 std: 0.048\n",
      "M mean: 0.86667 std: 0.041\n"
     ]
    }
   ],
   "source": [
    "results = cross_validate(mfcc_list, labels_list, random_state_list, test_function=test_cosine, num_eigenvectors=1)\n",
    "print(f\"AV mean: {results['mean']:.5f} std: {results['std']:.3f}\")\n",
    "print(f\"F mean: {results['mean_female']:.5f} std: {results['std_female']:.3f}\")\n",
    "print(f\"M mean: {results['mean_male']:.5f} std: {results['std_male']:.3f}\")"
   ]
  },
  {
   "cell_type": "markdown",
   "metadata": {},
   "source": [
    "### Article approach, 1 ev\n"
   ]
  },
  {
   "cell_type": "code",
   "execution_count": 25,
   "metadata": {},
   "outputs": [
    {
     "name": "stdout",
     "output_type": "stream",
     "text": [
      "AV mean: 0.79603 std: 0.023\n",
      "F mean: 0.69444 std: 0.047\n",
      "M mean: 0.89762 std: 0.036\n"
     ]
    }
   ],
   "source": [
    "results = cross_validate_article(mfcc_list, labels_list, random_state_list, test_function=test_cosine, num_eigenvectors=1)\n",
    "print(f\"AV mean: {results['mean']:.5f} std: {results['std']:.3f}\")\n",
    "print(f\"F mean: {results['mean_female']:.5f} std: {results['std_female']:.3f}\")\n",
    "print(f\"M mean: {results['mean_male']:.5f} std: {results['std_male']:.3f}\")"
   ]
  },
  {
   "cell_type": "markdown",
   "metadata": {},
   "source": [
    "### Our approach, 4 ev"
   ]
  },
  {
   "cell_type": "code",
   "execution_count": 26,
   "metadata": {},
   "outputs": [
    {
     "name": "stdout",
     "output_type": "stream",
     "text": [
      "AV mean: 0.81936 std: 0.037\n",
      "F mean: 0.77206 std: 0.047\n",
      "M mean: 0.86667 std: 0.041\n"
     ]
    }
   ],
   "source": [
    "results = cross_validate(mfcc_list, labels_list, random_state_list, test_function=test_cosine, num_eigenvectors=4)\n",
    "print(f\"AV mean: {results['mean']:.5f} std: {results['std']:.3f}\")\n",
    "print(f\"F mean: {results['mean_female']:.5f} std: {results['std_female']:.3f}\")\n",
    "print(f\"M mean: {results['mean_male']:.5f} std: {results['std_male']:.3f}\")"
   ]
  },
  {
   "cell_type": "markdown",
   "metadata": {},
   "source": [
    "### Article approach, 4 ev"
   ]
  },
  {
   "cell_type": "code",
   "execution_count": 27,
   "metadata": {},
   "outputs": [
    {
     "name": "stdout",
     "output_type": "stream",
     "text": [
      "AV mean: 0.73732 std: 0.051\n",
      "F mean: 0.57108 std: 0.121\n",
      "M mean: 0.90357 std: 0.040\n"
     ]
    }
   ],
   "source": [
    "results = cross_validate_article(mfcc_list, labels_list, random_state_list, test_function=test_cosine, num_eigenvectors=4)\n",
    "print(f\"AV mean: {results['mean']:.5f} std: {results['std']:.3f}\")\n",
    "print(f\"F mean: {results['mean_female']:.5f} std: {results['std_female']:.3f}\")\n",
    "print(f\"M mean: {results['mean_male']:.5f} std: {results['std_male']:.3f}\")"
   ]
  },
  {
   "cell_type": "markdown",
   "metadata": {},
   "source": [
    "#### For Khanty data the best performance of our approach (0.835) has been reached with 20-sized feature vectors and the best performance of the article approach (0.847) has been reached with 26-sized feature vectors and 4 eigenvectors. <br>\n",
    "An accuracy for male and female audio data is almost equal except for the case of 13-sized feature vectors: for male samples an accuracy is much higher."
   ]
  },
  {
   "cell_type": "markdown",
   "metadata": {},
   "source": [
    "## TIMIT DR1 (New England dialect) corpus (180 F, 310 M, 490 total) : "
   ]
  },
  {
   "cell_type": "code",
   "execution_count": 28,
   "metadata": {},
   "outputs": [],
   "source": [
    "paths = sorted(glob.glob('TIMIT_DR1/*.wav'))"
   ]
  },
  {
   "cell_type": "markdown",
   "metadata": {},
   "source": [
    "#### Experiments with different sizes of feature vectors "
   ]
  },
  {
   "cell_type": "markdown",
   "metadata": {},
   "source": [
    "#### 20:"
   ]
  },
  {
   "cell_type": "code",
   "execution_count": 36,
   "metadata": {},
   "outputs": [
    {
     "name": "stderr",
     "output_type": "stream",
     "text": [
      "100%|██████████| 490/490 [01:02<00:00,  7.85it/s]\n"
     ]
    }
   ],
   "source": [
    "mfcc_list = []\n",
    "labels_list = []\n",
    "for path in tqdm(paths):\n",
    "    y, sr = librosa.load(path)\n",
    "    mfcc = librosa.feature.mfcc(y=y, sr=sr, n_mfcc=20).T\n",
    "    mfcc_list.append(mfcc)\n",
    "    labels_list.append(get_name(path)[0])"
   ]
  },
  {
   "cell_type": "code",
   "execution_count": null,
   "metadata": {},
   "outputs": [],
   "source": [
    "np.random.seed(122)\n",
    "random_state_list = np.random.randint(0, 1000000, size=19)"
   ]
  },
  {
   "cell_type": "markdown",
   "metadata": {},
   "source": [
    "#### Experiments with different number of eigenvectors (1 and 4):"
   ]
  },
  {
   "cell_type": "markdown",
   "metadata": {},
   "source": [
    "### Our approach, 1 ev"
   ]
  },
  {
   "cell_type": "code",
   "execution_count": 39,
   "metadata": {},
   "outputs": [
    {
     "name": "stdout",
     "output_type": "stream",
     "text": [
      "AV mean: 0.84283 std: 0.023\n",
      "F mean: 0.74912 std: 0.046\n",
      "M mean: 0.93653 std: 0.022\n"
     ]
    }
   ],
   "source": [
    "results = cross_validate(mfcc_list, labels_list, random_state_list, test_function=test_cosine, num_eigenvectors=1)\n",
    "print(f\"AV mean: {results['mean']:.5f} std: {results['std']:.3f}\")\n",
    "print(f\"F mean: {results['mean_female']:.5f} std: {results['std_female']:.3f}\")\n",
    "print(f\"M mean: {results['mean_male']:.5f} std: {results['std_male']:.3f}\")"
   ]
  },
  {
   "cell_type": "markdown",
   "metadata": {},
   "source": [
    "### Article approach, 1 ev"
   ]
  },
  {
   "cell_type": "code",
   "execution_count": 38,
   "metadata": {},
   "outputs": [
    {
     "name": "stdout",
     "output_type": "stream",
     "text": [
      "AV mean: 0.90258 std: 0.021\n",
      "F mean: 0.94035 std: 0.021\n",
      "M mean: 0.86481 std: 0.031\n"
     ]
    }
   ],
   "source": [
    "results = cross_validate_article(mfcc_list, labels_list, random_state_list, test_function=test_cosine, num_eigenvectors=1)\n",
    "print(f\"AV mean: {results['mean']:.5f} std: {results['std']:.3f}\")\n",
    "print(f\"F mean: {results['mean_female']:.5f} std: {results['std_female']:.3f}\")\n",
    "print(f\"M mean: {results['mean_male']:.5f} std: {results['std_male']:.3f}\")"
   ]
  },
  {
   "cell_type": "markdown",
   "metadata": {},
   "source": [
    "### Our approach, 4 ev"
   ]
  },
  {
   "cell_type": "code",
   "execution_count": 40,
   "metadata": {},
   "outputs": [
    {
     "name": "stdout",
     "output_type": "stream",
     "text": [
      "AV mean: 0.84283 std: 0.023\n",
      "F mean: 0.74912 std: 0.046\n",
      "M mean: 0.93653 std: 0.022\n"
     ]
    }
   ],
   "source": [
    "results = cross_validate(mfcc_list, labels_list, random_state_list, test_function=test_cosine, num_eigenvectors=4)\n",
    "print(f\"AV mean: {results['mean']:.5f} std: {results['std']:.3f}\")\n",
    "print(f\"F mean: {results['mean_female']:.5f} std: {results['std_female']:.3f}\")\n",
    "print(f\"M mean: {results['mean_male']:.5f} std: {results['std_male']:.3f}\")"
   ]
  },
  {
   "cell_type": "markdown",
   "metadata": {},
   "source": [
    "### Article approach, 4 ev"
   ]
  },
  {
   "cell_type": "code",
   "execution_count": 41,
   "metadata": {},
   "outputs": [
    {
     "name": "stdout",
     "output_type": "stream",
     "text": [
      "AV mean: 0.87614 std: 0.023\n",
      "F mean: 0.80439 std: 0.039\n",
      "M mean: 0.94788 std: 0.023\n"
     ]
    }
   ],
   "source": [
    "results = cross_validate_article(mfcc_list, labels_list, random_state_list, test_function=test_cosine, num_eigenvectors=4)\n",
    "print(f\"AV mean: {results['mean']:.5f} std: {results['std']:.3f}\")\n",
    "print(f\"F mean: {results['mean_female']:.5f} std: {results['std_female']:.3f}\")\n",
    "print(f\"M mean: {results['mean_male']:.5f} std: {results['std_male']:.3f}\")"
   ]
  },
  {
   "cell_type": "markdown",
   "metadata": {},
   "source": [
    "#### 13:"
   ]
  },
  {
   "cell_type": "code",
   "execution_count": 42,
   "metadata": {},
   "outputs": [
    {
     "name": "stderr",
     "output_type": "stream",
     "text": [
      "100%|██████████| 490/490 [00:59<00:00,  8.25it/s]\n"
     ]
    }
   ],
   "source": [
    "mfcc_list = []\n",
    "labels_list = []\n",
    "for path in tqdm(paths):\n",
    "    y, sr = librosa.load(path)\n",
    "    mfcc = librosa.feature.mfcc(y=y, sr=sr, n_mfcc=13).T\n",
    "    mfcc_list.append(mfcc)\n",
    "    labels_list.append(get_name(path)[0])"
   ]
  },
  {
   "cell_type": "code",
   "execution_count": 43,
   "metadata": {},
   "outputs": [],
   "source": [
    "np.random.seed(122)\n",
    "random_state_list = np.random.randint(0, 1000000, size=12)"
   ]
  },
  {
   "cell_type": "markdown",
   "metadata": {},
   "source": [
    "#### Experiments with different number of eigenvectors (1 and 4):"
   ]
  },
  {
   "cell_type": "markdown",
   "metadata": {},
   "source": [
    "### Our approach, 1 ev"
   ]
  },
  {
   "cell_type": "code",
   "execution_count": 44,
   "metadata": {},
   "outputs": [
    {
     "name": "stdout",
     "output_type": "stream",
     "text": [
      "AV mean: 0.82361 std: 0.021\n",
      "F mean: 0.71667 std: 0.039\n",
      "M mean: 0.93056 std: 0.024\n"
     ]
    }
   ],
   "source": [
    "results = cross_validate(mfcc_list, labels_list, random_state_list, test_function=test_cosine, num_eigenvectors=1)\n",
    "print(f\"AV mean: {results['mean']:.5f} std: {results['std']:.3f}\")\n",
    "print(f\"F mean: {results['mean_female']:.5f} std: {results['std_female']:.3f}\")\n",
    "print(f\"M mean: {results['mean_male']:.5f} std: {results['std_male']:.3f}\")"
   ]
  },
  {
   "cell_type": "markdown",
   "metadata": {},
   "source": [
    "### Article approach, 1 ev"
   ]
  },
  {
   "cell_type": "code",
   "execution_count": 45,
   "metadata": {},
   "outputs": [
    {
     "name": "stdout",
     "output_type": "stream",
     "text": [
      "AV mean: 0.79052 std: 0.027\n",
      "F mean: 0.98056 std: 0.016\n",
      "M mean: 0.60049 std: 0.054\n"
     ]
    }
   ],
   "source": [
    "results = cross_validate_article(mfcc_list, labels_list, random_state_list, test_function=test_cosine, num_eigenvectors=1)\n",
    "print(f\"AV mean: {results['mean']:.5f} std: {results['std']:.3f}\")\n",
    "print(f\"F mean: {results['mean_female']:.5f} std: {results['std_female']:.3f}\")\n",
    "print(f\"M mean: {results['mean_male']:.5f} std: {results['std_male']:.3f}\")"
   ]
  },
  {
   "cell_type": "markdown",
   "metadata": {},
   "source": [
    "### Our approach, 4 ev"
   ]
  },
  {
   "cell_type": "code",
   "execution_count": 46,
   "metadata": {},
   "outputs": [
    {
     "name": "stdout",
     "output_type": "stream",
     "text": [
      "AV mean: 0.82361 std: 0.021\n",
      "F mean: 0.71667 std: 0.039\n",
      "M mean: 0.93056 std: 0.024\n"
     ]
    }
   ],
   "source": [
    "results = cross_validate(mfcc_list, labels_list, random_state_list, test_function=test_cosine, num_eigenvectors=4)\n",
    "print(f\"AV mean: {results['mean']:.5f} std: {results['std']:.3f}\")\n",
    "print(f\"F mean: {results['mean_female']:.5f} std: {results['std_female']:.3f}\")\n",
    "print(f\"M mean: {results['mean_male']:.5f} std: {results['std_male']:.3f}\")"
   ]
  },
  {
   "cell_type": "markdown",
   "metadata": {},
   "source": [
    "### Article approach, 4 ev"
   ]
  },
  {
   "cell_type": "code",
   "execution_count": 47,
   "metadata": {},
   "outputs": [
    {
     "name": "stdout",
     "output_type": "stream",
     "text": [
      "AV mean: 0.83272 std: 0.026\n",
      "F mean: 0.97917 std: 0.015\n",
      "M mean: 0.68627 std: 0.049\n"
     ]
    }
   ],
   "source": [
    "results = cross_validate_article(mfcc_list, labels_list, random_state_list, test_function=test_cosine, num_eigenvectors=4)\n",
    "print(f\"AV mean: {results['mean']:.5f} std: {results['std']:.3f}\")\n",
    "print(f\"F mean: {results['mean_female']:.5f} std: {results['std_female']:.3f}\")\n",
    "print(f\"M mean: {results['mean_male']:.5f} std: {results['std_male']:.3f}\")"
   ]
  },
  {
   "cell_type": "markdown",
   "metadata": {},
   "source": [
    "#### For TIMIT data the best performance of our approach (0.84283) has been reached with 20-sized feature vectors and the best performance of the article approach (0.90258)  has been reached with 20-sized feature vectors and 1 etigenvector.  <br>\n",
    "In case of our approach an accuracy for male audio data is higher than for female one. In case of the article approach, on the contrary, an accuracy for female audio data is higher than for male one."
   ]
  },
  {
   "cell_type": "markdown",
   "metadata": {},
   "source": [
    "## SHRUTI (the Bengali language) corpus (278 F, 261 M, 539 total)"
   ]
  },
  {
   "cell_type": "code",
   "execution_count": 52,
   "metadata": {},
   "outputs": [],
   "source": [
    "paths = sorted(glob.glob('SHRUTI_small/*.wav'))"
   ]
  },
  {
   "cell_type": "markdown",
   "metadata": {},
   "source": [
    "#### Experiments with different sizes of feature vectors "
   ]
  },
  {
   "cell_type": "markdown",
   "metadata": {},
   "source": [
    "#### 26:"
   ]
  },
  {
   "cell_type": "code",
   "execution_count": 54,
   "metadata": {},
   "outputs": [
    {
     "name": "stderr",
     "output_type": "stream",
     "text": [
      "100%|██████████| 539/539 [02:32<00:00,  3.54it/s]\n"
     ]
    }
   ],
   "source": [
    "mfcc_list = []\n",
    "labels_list = []\n",
    "for path in tqdm(paths):\n",
    "    y, sr = librosa.load(path)\n",
    "    mfcc = librosa.feature.mfcc(y=y, sr=sr, n_mfcc=26).T\n",
    "    mfcc_list.append(mfcc)\n",
    "    labels_list.append(get_name(path)[0])"
   ]
  },
  {
   "cell_type": "code",
   "execution_count": 55,
   "metadata": {},
   "outputs": [],
   "source": [
    "np.random.seed(122)\n",
    "random_state_list = np.random.randint(0, 1000000, size=25)"
   ]
  },
  {
   "cell_type": "markdown",
   "metadata": {},
   "source": [
    "#### Experiments with different number of eigenvectors (1 and 4):\n"
   ]
  },
  {
   "cell_type": "markdown",
   "metadata": {},
   "source": [
    "### Our approach, 1 ev"
   ]
  },
  {
   "cell_type": "code",
   "execution_count": 56,
   "metadata": {},
   "outputs": [
    {
     "name": "stdout",
     "output_type": "stream",
     "text": [
      "AV mean: 0.842 std: 0.036\n",
      "F mean: 0.689 std: 0.072\n",
      "M mean: 0.995 std: 0.007\n"
     ]
    }
   ],
   "source": [
    "results = cross_validate(mfcc_list, labels_list, random_state_list, test_function=test_cosine, num_eigenvectors=1)\n",
    "print(f\"AV mean: {results['mean']:.3f} std: {results['std']:.3f}\")\n",
    "print(f\"F mean: {results['mean_female']:.3f} std: {results['std_female']:.3f}\")\n",
    "print(f\"M mean: {results['mean_male']:.3f} std: {results['std_male']:.3f}\")"
   ]
  },
  {
   "cell_type": "markdown",
   "metadata": {},
   "source": [
    "### Article approach, 1 ev\n"
   ]
  },
  {
   "cell_type": "code",
   "execution_count": 57,
   "metadata": {},
   "outputs": [
    {
     "name": "stdout",
     "output_type": "stream",
     "text": [
      "AV mean: 0.971 std: 0.011\n",
      "F mean: 0.989 std: 0.010\n",
      "M mean: 0.953 std: 0.024\n"
     ]
    }
   ],
   "source": [
    "results = cross_validate_article(mfcc_list, labels_list, random_state_list, test_function=test_cosine, num_eigenvectors=1)\n",
    "print(f\"AV mean: {results['mean']:.3f} std: {results['std']:.3f}\")\n",
    "print(f\"F mean: {results['mean_female']:.3f} std: {results['std_female']:.3f}\")\n",
    "print(f\"M mean: {results['mean_male']:.3f} std: {results['std_male']:.3f}\")"
   ]
  },
  {
   "cell_type": "markdown",
   "metadata": {},
   "source": [
    "### Our approach, 4 ev\n"
   ]
  },
  {
   "cell_type": "code",
   "execution_count": 58,
   "metadata": {},
   "outputs": [
    {
     "name": "stdout",
     "output_type": "stream",
     "text": [
      "AV mean: 0.844 std: 0.036\n",
      "F mean: 0.693 std: 0.072\n",
      "M mean: 0.995 std: 0.007\n"
     ]
    }
   ],
   "source": [
    "results = cross_validate(mfcc_list, labels_list, random_state_list, test_function=test_cosine, num_eigenvectors=4)\n",
    "print(f\"AV mean: {results['mean']:.3f} std: {results['std']:.3f}\")\n",
    "print(f\"F mean: {results['mean_female']:.3f} std: {results['std_female']:.3f}\")\n",
    "print(f\"M mean: {results['mean_male']:.3f} std: {results['std_male']:.3f}\")"
   ]
  },
  {
   "cell_type": "markdown",
   "metadata": {},
   "source": [
    "### Article approach, 4 ev\n"
   ]
  },
  {
   "cell_type": "code",
   "execution_count": 59,
   "metadata": {},
   "outputs": [
    {
     "name": "stdout",
     "output_type": "stream",
     "text": [
      "AV mean: 0.931 std: 0.035\n",
      "F mean: 0.989 std: 0.024\n",
      "M mean: 0.873 std: 0.080\n"
     ]
    }
   ],
   "source": [
    "results = cross_validate_article(mfcc_list, labels_list, random_state_list, test_function=test_cosine, num_eigenvectors=4)\n",
    "print(f\"AV mean: {results['mean']:.3f} std: {results['std']:.3f}\")\n",
    "print(f\"F mean: {results['mean_female']:.3f} std: {results['std_female']:.3f}\")\n",
    "print(f\"M mean: {results['mean_male']:.3f} std: {results['std_male']:.3f}\")"
   ]
  },
  {
   "cell_type": "markdown",
   "metadata": {},
   "source": [
    "#### 20:"
   ]
  },
  {
   "cell_type": "code",
   "execution_count": 60,
   "metadata": {},
   "outputs": [
    {
     "name": "stderr",
     "output_type": "stream",
     "text": [
      "100%|██████████| 539/539 [02:17<00:00,  3.93it/s]\n"
     ]
    }
   ],
   "source": [
    "mfcc_list = []\n",
    "labels_list = []\n",
    "for path in tqdm(paths):\n",
    "    y, sr = librosa.load(path)\n",
    "    mfcc = librosa.feature.mfcc(y=y, sr=sr, n_mfcc=20).T\n",
    "    mfcc_list.append(mfcc)\n",
    "    labels_list.append(get_name(path)[0])"
   ]
  },
  {
   "cell_type": "code",
   "execution_count": 61,
   "metadata": {},
   "outputs": [],
   "source": [
    "np.random.seed(122)\n",
    "random_state_list = np.random.randint(0, 1000000, size=19)"
   ]
  },
  {
   "cell_type": "markdown",
   "metadata": {},
   "source": [
    "#### Experiments with different number of eigenvectors (1 and 4):\n"
   ]
  },
  {
   "cell_type": "markdown",
   "metadata": {},
   "source": [
    "### Our approach, 1 ev"
   ]
  },
  {
   "cell_type": "code",
   "execution_count": 62,
   "metadata": {},
   "outputs": [
    {
     "name": "stdout",
     "output_type": "stream",
     "text": [
      "AV mean: 0.807 std: 0.041\n",
      "F mean: 0.616 std: 0.081\n",
      "M mean: 0.997 std: 0.005\n"
     ]
    }
   ],
   "source": [
    "results = cross_validate(mfcc_list, labels_list, random_state_list, test_function=test_cosine, num_eigenvectors=1)\n",
    "print(f\"AV mean: {results['mean']:.3f} std: {results['std']:.3f}\")\n",
    "print(f\"F mean: {results['mean_female']:.3f} std: {results['std_female']:.3f}\")\n",
    "print(f\"M mean: {results['mean_male']:.3f} std: {results['std_male']:.3f}\")"
   ]
  },
  {
   "cell_type": "markdown",
   "metadata": {},
   "source": [
    "### Article approach, 1 ev"
   ]
  },
  {
   "cell_type": "code",
   "execution_count": 63,
   "metadata": {},
   "outputs": [
    {
     "name": "stdout",
     "output_type": "stream",
     "text": [
      "AV mean: 0.954 std: 0.014\n",
      "F mean: 0.989 std: 0.010\n",
      "M mean: 0.919 std: 0.031\n"
     ]
    }
   ],
   "source": [
    "results = cross_validate_article(mfcc_list, labels_list, random_state_list, test_function=test_cosine, num_eigenvectors=1)\n",
    "print(f\"AV mean: {results['mean']:.3f} std: {results['std']:.3f}\")\n",
    "print(f\"F mean: {results['mean_female']:.3f} std: {results['std_female']:.3f}\")\n",
    "print(f\"M mean: {results['mean_male']:.3f} std: {results['std_male']:.3f}\")"
   ]
  },
  {
   "cell_type": "markdown",
   "metadata": {},
   "source": [
    "### Our approach, 4 ev"
   ]
  },
  {
   "cell_type": "code",
   "execution_count": 64,
   "metadata": {},
   "outputs": [
    {
     "name": "stdout",
     "output_type": "stream",
     "text": [
      "AV mean: 0.809 std: 0.039\n",
      "F mean: 0.622 std: 0.077\n",
      "M mean: 0.997 std: 0.005\n"
     ]
    }
   ],
   "source": [
    "results = cross_validate(mfcc_list, labels_list, random_state_list, test_function=test_cosine, num_eigenvectors=4)\n",
    "print(f\"AV mean: {results['mean']:.3f} std: {results['std']:.3f}\")\n",
    "print(f\"F mean: {results['mean_female']:.3f} std: {results['std_female']:.3f}\")\n",
    "print(f\"M mean: {results['mean_male']:.3f} std: {results['std_male']:.3f}\")"
   ]
  },
  {
   "cell_type": "markdown",
   "metadata": {},
   "source": [
    "### Article approach, 4 ev"
   ]
  },
  {
   "cell_type": "code",
   "execution_count": 65,
   "metadata": {},
   "outputs": [
    {
     "name": "stdout",
     "output_type": "stream",
     "text": [
      "AV mean: 0.969 std: 0.013\n",
      "F mean: 0.975 std: 0.026\n",
      "M mean: 0.963 std: 0.023\n"
     ]
    }
   ],
   "source": [
    "results = cross_validate_article(mfcc_list, labels_list, random_state_list, test_function=test_cosine, num_eigenvectors=4)\n",
    "print(f\"AV mean: {results['mean']:.3f} std: {results['std']:.3f}\")\n",
    "print(f\"F mean: {results['mean_female']:.3f} std: {results['std_female']:.3f}\")\n",
    "print(f\"M mean: {results['mean_male']:.3f} std: {results['std_male']:.3f}\")"
   ]
  },
  {
   "cell_type": "markdown",
   "metadata": {},
   "source": [
    "#### 13:"
   ]
  },
  {
   "cell_type": "code",
   "execution_count": 66,
   "metadata": {},
   "outputs": [
    {
     "name": "stderr",
     "output_type": "stream",
     "text": [
      "100%|██████████| 539/539 [02:12<00:00,  4.08it/s]\n"
     ]
    }
   ],
   "source": [
    "mfcc_list = []\n",
    "labels_list = []\n",
    "for path in tqdm(paths):\n",
    "    y, sr = librosa.load(path)\n",
    "    mfcc = librosa.feature.mfcc(y=y, sr=sr, n_mfcc=13).T\n",
    "    mfcc_list.append(mfcc)\n",
    "    labels_list.append(get_name(path)[0])"
   ]
  },
  {
   "cell_type": "code",
   "execution_count": 67,
   "metadata": {},
   "outputs": [],
   "source": [
    "np.random.seed(122)\n",
    "random_state_list = np.random.randint(0, 1000000, size=12)"
   ]
  },
  {
   "cell_type": "markdown",
   "metadata": {},
   "source": [
    "#### Experiments with different number of eigenvectors (1 and 4):\n"
   ]
  },
  {
   "cell_type": "markdown",
   "metadata": {},
   "source": [
    "### Our approach, 1 ev"
   ]
  },
  {
   "cell_type": "code",
   "execution_count": 68,
   "metadata": {},
   "outputs": [
    {
     "name": "stdout",
     "output_type": "stream",
     "text": [
      "AV mean: 0.801 std: 0.036\n",
      "F mean: 0.608 std: 0.074\n",
      "M mean: 0.994 std: 0.008\n"
     ]
    }
   ],
   "source": [
    "results = cross_validate(mfcc_list, labels_list, random_state_list, test_function=test_cosine, num_eigenvectors=1)\n",
    "print(f\"AV mean: {results['mean']:.3f} std: {results['std']:.3f}\")\n",
    "print(f\"F mean: {results['mean_female']:.3f} std: {results['std_female']:.3f}\")\n",
    "print(f\"M mean: {results['mean_male']:.3f} std: {results['std_male']:.3f}\")"
   ]
  },
  {
   "cell_type": "markdown",
   "metadata": {},
   "source": [
    "### Article approach, 1 ev"
   ]
  },
  {
   "cell_type": "code",
   "execution_count": 69,
   "metadata": {},
   "outputs": [
    {
     "name": "stdout",
     "output_type": "stream",
     "text": [
      "AV mean: 0.884 std: 0.020\n",
      "F mean: 0.992 std: 0.009\n",
      "M mean: 0.777 std: 0.039\n"
     ]
    }
   ],
   "source": [
    "results = cross_validate_article(mfcc_list, labels_list, random_state_list, test_function=test_cosine, num_eigenvectors=1)\n",
    "print(f\"AV mean: {results['mean']:.3f} std: {results['std']:.3f}\")\n",
    "print(f\"F mean: {results['mean_female']:.3f} std: {results['std_female']:.3f}\")\n",
    "print(f\"M mean: {results['mean_male']:.3f} std: {results['std_male']:.3f}\")"
   ]
  },
  {
   "cell_type": "markdown",
   "metadata": {},
   "source": [
    "### Our approach, 4 ev"
   ]
  },
  {
   "cell_type": "code",
   "execution_count": 70,
   "metadata": {},
   "outputs": [
    {
     "name": "stdout",
     "output_type": "stream",
     "text": [
      "AV mean: 0.803 std: 0.033\n",
      "F mean: 0.612 std: 0.068\n",
      "M mean: 0.994 std: 0.008\n"
     ]
    }
   ],
   "source": [
    "results = cross_validate(mfcc_list, labels_list, random_state_list, test_function=test_cosine, num_eigenvectors=4)\n",
    "print(f\"AV mean: {results['mean']:.3f} std: {results['std']:.3f}\")\n",
    "print(f\"F mean: {results['mean_female']:.3f} std: {results['std_female']:.3f}\")\n",
    "print(f\"M mean: {results['mean_male']:.3f} std: {results['std_male']:.3f}\")"
   ]
  },
  {
   "cell_type": "markdown",
   "metadata": {},
   "source": [
    "### Article approach, 4 ev"
   ]
  },
  {
   "cell_type": "code",
   "execution_count": 71,
   "metadata": {},
   "outputs": [
    {
     "name": "stdout",
     "output_type": "stream",
     "text": [
      "AV mean: 0.779 std: 0.095\n",
      "F mean: 0.997 std: 0.005\n",
      "M mean: 0.560 std: 0.194\n"
     ]
    }
   ],
   "source": [
    "results = cross_validate_article(mfcc_list, labels_list, random_state_list, test_function=test_cosine, num_eigenvectors=4)\n",
    "print(f\"AV mean: {results['mean']:.3f} std: {results['std']:.3f}\")\n",
    "print(f\"F mean: {results['mean_female']:.3f} std: {results['std_female']:.3f}\")\n",
    "print(f\"M mean: {results['mean_male']:.3f} std: {results['std_male']:.3f}\")"
   ]
  },
  {
   "cell_type": "markdown",
   "metadata": {},
   "source": [
    "#### The best perfomance (0.844) for SHRUTI  corpus in our approach was reached with 26-sized feature vectors and 4 eigenvectors. In the article approach the best perfomance (0.971) was shown with 26-sized feature vectors and 1 eigenvector.  <br>\n",
    "In our approach an accuracy for male audio data was much higher than for female one. In the article approach, on the contrary, female samples received higher accuracy."
   ]
  },
  {
   "cell_type": "markdown",
   "metadata": {},
   "source": [
    "#### All in all, the best average accuracy (0.971) was perfomed on SHRUTI dataset with the article approach using 26-sized feature vectors and 1 eigenvector."
   ]
  }
 ],
 "metadata": {
  "kernelspec": {
   "display_name": "Python 3",
   "language": "python",
   "name": "python3"
  },
  "language_info": {
   "codemirror_mode": {
    "name": "ipython",
    "version": 3
   },
   "file_extension": ".py",
   "mimetype": "text/x-python",
   "name": "python",
   "nbconvert_exporter": "python",
   "pygments_lexer": "ipython3",
   "version": "3.8.4"
  }
 },
 "nbformat": 4,
 "nbformat_minor": 4
}
