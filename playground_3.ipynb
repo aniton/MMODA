{
 "cells": [
  {
   "cell_type": "code",
   "execution_count": 1,
   "metadata": {},
   "outputs": [],
   "source": [
    "import glob\n",
    "import os\n",
    "from os.path import join\n",
    "\n",
    "import librosa\n",
    "import matplotlib.pyplot as plt\n",
    "import numpy as np\n",
    "from sklearn.model_selection import train_test_split\n",
    "from tqdm import tqdm"
   ]
  },
  {
   "cell_type": "code",
   "execution_count": 2,
   "metadata": {},
   "outputs": [],
   "source": [
    "def cross_validate(mfcc_list, labels_list, random_state_list, test_function, num_eigenvectors=1):\n",
    "    results = {}\n",
    "    accuracy_list = []\n",
    "    accuracy_list_female = []\n",
    "    accuracy_list_male = []\n",
    "    for random_state in random_state_list:\n",
    "        X_train, X_test, y_train, y_test = train_test_split(mfcc_list, labels_list, test_size=0.33,\n",
    "                                                            random_state=random_state, stratify=labels_list)\n",
    "\n",
    "        features = np.concatenate(get_features_filtered_by_label(X_train, y_train, 'F'))\n",
    "        eigen_female = get_k_main_eigenvectors(features, k=num_eigenvectors)\n",
    "\n",
    "        features = np.concatenate(get_features_filtered_by_label(X_train, y_train, 'M'))\n",
    "        eigen_male = get_k_main_eigenvectors(features, k=num_eigenvectors)\n",
    "\n",
    "        features_test = get_features_filtered_by_label(X_test, y_test, 'F')\n",
    "        is_correct_function = lambda x, y: x < y\n",
    "        accuracy_female = test_function(eigen_female, eigen_male, features_test, is_correct_function,\n",
    "                                        num_eigenvectors=num_eigenvectors)\n",
    "\n",
    "        features_test = get_features_filtered_by_label(X_test, y_test, 'M')\n",
    "        is_correct_function = lambda x, y: x > y\n",
    "        accuracy_male = test_function(eigen_female, eigen_male, features_test, is_correct_function,\n",
    "                                     num_eigenvectors=num_eigenvectors)\n",
    "\n",
    "#         print(f'f: {accuracy_female:.3f}, m: {accuracy_male:.3f}')\n",
    "        accuracy_list.append((accuracy_female + accuracy_male) * .5)\n",
    "        accuracy_list_female.append(accuracy_female)\n",
    "        accuracy_list_male.append(accuracy_male)\n",
    "        \n",
    "    results['mean'] = np.mean(accuracy_list)\n",
    "    results['mean_female'] = np.mean(accuracy_list_female)\n",
    "    results['mean_male'] = np.mean(accuracy_list_male)\n",
    "    \n",
    "    results['std'] = np.std(accuracy_list)\n",
    "    results['std_female'] = np.std(accuracy_list_female)\n",
    "    results['std_male'] = np.std(accuracy_list_male)\n",
    "    \n",
    "    return results\n",
    "\n",
    "def get_features_filtered_by_label(features, labels, selected_label):\n",
    "    return [feature for feature, label in zip(features, labels) if label == selected_label]\n",
    "\n",
    "def get_k_main_eigenvectors(X, k=1):\n",
    "    m1 = X.mean(axis=0)\n",
    "    corr_matrix = np.cov(X.T)\n",
    "    corr_eigens = np.linalg.eigvalsh(corr_matrix)\n",
    "    m2 = corr_matrix + np.outer(m1, m1) - corr_eigens[0] * np.eye(corr_matrix.shape[0])\n",
    "    w, v = np.linalg.eigh(m2)\n",
    "    return v[:, -k:].T\n",
    "\n",
    "def get_name(path):\n",
    "    return os.path.splitext(os.path.split(path)[1])[0]\n",
    "\n",
    "# --- test functions ---\n",
    "\n",
    "def test(eigen_female, eigen_male, features_test, is_correct_function, debug=False, **kwargs):\n",
    "    counter = 0\n",
    "    num_eigenvectors = kwargs['num_eigenvectors']\n",
    "    for feature in features_test:\n",
    "        eigen_test = get_k_main_eigenvectors(feature, k=num_eigenvectors)\n",
    "        dist_to_female = min([np.square(ete - etr).sum() for etr, ete in zip(eigen_female, eigen_test)])\n",
    "        dist_to_male = min([np.square(ete - etr).sum() for etr, ete in zip(eigen_male, eigen_test)])\n",
    "        correct = is_correct_function(dist_to_female, dist_to_male)\n",
    "        if correct:\n",
    "            counter += 1\n",
    "    if debug:\n",
    "        print(f'{dist_to_female:.3e}, {dist_to_male:.3e}, {correct}')\n",
    "    return counter / len(features_test)\n",
    "\n",
    "def test_cosine(eigen_female, eigen_male, features_test, is_correct_function, debug=False, **kwargs):\n",
    "    counter = 0\n",
    "    for feature in features_test:\n",
    "        dist_to_female = sum([min([np.dot(x, etr) / (np.linalg.norm(etr) * np.linalg.norm(x))\n",
    "                                   for etr in eigen_female]) for x in feature])\n",
    "        dist_to_male = sum([min([np.dot(x, etr) / (np.linalg.norm(etr) * np.linalg.norm(x))\n",
    "                                   for etr in eigen_male]) for x in feature])\n",
    "        correct = is_correct_function(dist_to_female, dist_to_male)\n",
    "        if correct:\n",
    "            counter += 1\n",
    "    if debug:\n",
    "        print(f'{dist_to_female:.3e}, {dist_to_male:.3e}, {correct}')\n",
    "    return counter / len(features_test)\n",
    "\n",
    "\n",
    "# -----------------------------------------------------------------\n",
    "# def normalize(x):\n",
    "#     return x - x.mean()\n",
    "\n",
    "def normalize(x):\n",
    "    return x / np.linalg.norm(x, ord=2, axis=1, keepdims=True)\n",
    "\n",
    "# check normalize\n",
    "def get_k_main_eigenvectors_svd(features, k=1):\n",
    "    _, _, vh = np.linalg.svd(normalize(features), full_matrices=False)\n",
    "    return vh[:k]"
   ]
  },
  {
   "cell_type": "code",
   "execution_count": 3,
   "metadata": {},
   "outputs": [],
   "source": [
    "paths = sorted(glob.glob('datasets/khanty_4/*.wav'))"
   ]
  },
  {
   "cell_type": "markdown",
   "metadata": {},
   "source": [
    "---"
   ]
  },
  {
   "cell_type": "code",
   "execution_count": 4,
   "metadata": {},
   "outputs": [
    {
     "name": "stderr",
     "output_type": "stream",
     "text": [
      "100%|██████████| 520/520 [02:09<00:00,  4.03it/s]\n"
     ]
    }
   ],
   "source": [
    "mfcc_list = []\n",
    "labels_list = []\n",
    "for path in tqdm(paths):\n",
    "    y, sr = librosa.load(path)\n",
    "    mfcc = librosa.feature.mfcc(y=y, sr=sr, n_mfcc=26).T\n",
    "    mfcc_list.append(mfcc)\n",
    "    labels_list.append(get_name(path)[0])"
   ]
  },
  {
   "cell_type": "code",
   "execution_count": 5,
   "metadata": {},
   "outputs": [],
   "source": [
    "np.random.seed(122)\n",
    "random_state_list = np.random.randint(0, 1000000, size=25)"
   ]
  },
  {
   "cell_type": "code",
   "execution_count": 6,
   "metadata": {},
   "outputs": [
    {
     "name": "stdout",
     "output_type": "stream",
     "text": [
      "mean: 0.809 std: 0.035\n"
     ]
    }
   ],
   "source": [
    "results = cross_validate(mfcc_list, labels_list, random_state_list, test_function=test, num_eigenvectors=1)\n",
    "print(f\"mean: {results['mean']:.3f} std: {results['std']:.3f}\")"
   ]
  },
  {
   "cell_type": "code",
   "execution_count": 7,
   "metadata": {},
   "outputs": [
    {
     "name": "stdout",
     "output_type": "stream",
     "text": [
      "mean: 0.830 std: 0.038\n"
     ]
    }
   ],
   "source": [
    "results = cross_validate(mfcc_list, labels_list, random_state_list, test_function=test_cosine, num_eigenvectors=1)\n",
    "print(f\"mean: {results['mean']:.3f} std: {results['std']:.3f}\")"
   ]
  },
  {
   "cell_type": "code",
   "execution_count": 8,
   "metadata": {},
   "outputs": [
    {
     "name": "stdout",
     "output_type": "stream",
     "text": [
      "mean: 0.828 std: 0.038\n"
     ]
    }
   ],
   "source": [
    "results = cross_validate(mfcc_list, labels_list, random_state_list, test_function=test_cosine, num_eigenvectors=4)\n",
    "print(f\"mean: {results['mean']:.3f} std: {results['std']:.3f}\")"
   ]
  }
 ],
 "metadata": {
  "kernelspec": {
   "display_name": "Python 3",
   "language": "python",
   "name": "python3"
  },
  "language_info": {
   "codemirror_mode": {
    "name": "ipython",
    "version": 3
   },
   "file_extension": ".py",
   "mimetype": "text/x-python",
   "name": "python",
   "nbconvert_exporter": "python",
   "pygments_lexer": "ipython3",
   "version": "3.8.5"
  }
 },
 "nbformat": 4,
 "nbformat_minor": 4
}
