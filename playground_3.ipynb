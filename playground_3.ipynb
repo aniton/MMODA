{
 "cells": [
  {
   "cell_type": "code",
   "execution_count": 1,
   "metadata": {},
   "outputs": [],
   "source": [
    "import glob\n",
    "import os\n",
    "from os.path import join\n",
    "\n",
    "import librosa\n",
    "import matplotlib.pyplot as plt\n",
    "import numpy as np\n",
    "from sklearn.model_selection import train_test_split\n",
    "from tqdm import tqdm"
   ]
  },
  {
   "cell_type": "code",
   "execution_count": 2,
   "metadata": {},
   "outputs": [],
   "source": [
    "def get_features_filtered_by_label(features, labels, selected_label):\n",
    "    return [feature for feature, label in zip(features, labels) if label == selected_label]\n",
    "\n",
    "# check normalize\n",
    "def get_k_main_eigenvectors_svd(features, k=1):\n",
    "    _, _, vh = np.linalg.svd(normalize(features), full_matrices=False)\n",
    "    return vh[:k]\n",
    "\n",
    "def get_k_main_eigenvectors(X, k=1):\n",
    "    m1 = X.mean(axis=0)\n",
    "    corr_matrix = np.cov(X.T)\n",
    "    corr_eigens = np.linalg.eigvalsh(corr_matrix)\n",
    "    m2 = corr_matrix + np.outer(m1, m1) - corr_eigens[0] * np.eye(corr_matrix.shape[0])\n",
    "    w, v = np.linalg.eigh(m2)\n",
    "    return v[:, -k:].T\n",
    "\n",
    "def get_name(path):\n",
    "    return os.path.splitext(os.path.split(path)[1])[0]\n",
    "\n",
    "def test(eigen_female, eigen_male, features_test, is_correct_function, debug=False):\n",
    "    counter = 0\n",
    "    for feature in features_test:\n",
    "        eigen_test = get_k_main_eigenvectors(feature, k=num_eigenvectors)\n",
    "        dist_to_female = min([np.square(ete - etr).sum() for etr, ete in zip(eigen_female, eigen_test)])\n",
    "        dist_to_male = min([np.square(ete - etr).sum() for etr, ete in zip(eigen_male, eigen_test)])\n",
    "        correct = is_correct_function(dist_to_female, dist_to_male)\n",
    "        if correct:\n",
    "            counter += 1\n",
    "    if debug:\n",
    "        print(f'{dist_to_female:.3e}, {dist_to_male:.3e}, {correct}')\n",
    "    return counter / len(features_test)\n",
    "\n",
    "# -----------------------------------------------------------------\n",
    "# def normalize(x):\n",
    "#     return x - x.mean()\n",
    "\n",
    "def normalize(x):\n",
    "    return x / np.linalg.norm(x, ord=2, axis=1, keepdims=True)"
   ]
  },
  {
   "cell_type": "code",
   "execution_count": 3,
   "metadata": {},
   "outputs": [],
   "source": [
    "paths = sorted(glob.glob('datasets/khanty_4/*.wav'))"
   ]
  },
  {
   "cell_type": "markdown",
   "metadata": {},
   "source": [
    "---"
   ]
  },
  {
   "cell_type": "code",
   "execution_count": 4,
   "metadata": {},
   "outputs": [
    {
     "name": "stderr",
     "output_type": "stream",
     "text": [
      "100%|██████████| 520/520 [02:15<00:00,  3.83it/s]\n"
     ]
    }
   ],
   "source": [
    "mfcc_list = []\n",
    "labels_list = []\n",
    "for path in tqdm(paths):\n",
    "    y, sr = librosa.load(path)\n",
    "    mfcc = librosa.feature.mfcc(y=y, sr=sr, n_mfcc=26).T\n",
    "    mfcc_list.append(mfcc)\n",
    "    labels_list.append(get_name(path)[0])"
   ]
  },
  {
   "cell_type": "code",
   "execution_count": 5,
   "metadata": {},
   "outputs": [
    {
     "name": "stdout",
     "output_type": "stream",
     "text": [
      "f: 0.765, m: 0.871\n",
      "f: 0.765, m: 0.914\n",
      "f: 0.784, m: 0.871\n",
      "f: 0.814, m: 0.929\n",
      "f: 0.696, m: 0.871\n",
      "f: 0.794, m: 0.914\n",
      "f: 0.804, m: 0.900\n"
     ]
    }
   ],
   "source": [
    "for random_state in [120, 5544, 33, 23, 997, 719, 581]:\n",
    "    X_train, X_test, y_train, y_test = train_test_split(mfcc_list, labels_list, test_size=0.33,\n",
    "                                                        random_state=random_state, stratify=labels_list)\n",
    "\n",
    "    num_eigenvectors = 1 # num_eigenvectors > 1 doesn't improve accuracy; need to improve inference\n",
    "\n",
    "    features = np.concatenate(get_features_filtered_by_label(X_train, y_train, 'F'))\n",
    "    eigen_female = get_k_main_eigenvectors(features, k=num_eigenvectors)\n",
    "\n",
    "    features = np.concatenate(get_features_filtered_by_label(X_train, y_train, 'M'))\n",
    "    eigen_male = get_k_main_eigenvectors(features, k=num_eigenvectors)\n",
    "\n",
    "    features_test = get_features_filtered_by_label(X_test, y_test, 'F')\n",
    "    is_correct_function = lambda x, y: x < y\n",
    "    accuracy_female = test(eigen_female, eigen_male, features_test, is_correct_function)\n",
    "\n",
    "    features_test = get_features_filtered_by_label(X_test, y_test, 'M')\n",
    "    is_correct_function = lambda x, y: x > y\n",
    "    accuracy_male = test(eigen_female, eigen_male, features_test, is_correct_function)\n",
    "\n",
    "    print(f'f: {accuracy_female:.3f}, m: {accuracy_male:.3f}')"
   ]
  },
  {
   "cell_type": "markdown",
   "metadata": {},
   "source": [
    "---"
   ]
  },
  {
   "cell_type": "code",
   "execution_count": 6,
   "metadata": {},
   "outputs": [],
   "source": [
    "# features_test = get_features_filtered_by_label(X_test, y_test, 'F')\n",
    "# is_correct_function = lambda x, y: x < y\n",
    "\n",
    "# counter = 0\n",
    "# for feature in features_test:\n",
    "#     feature = normalize(feature)\n",
    "#     dist_to_female = sum([min([np.square(x - etr).sum() for etr in eigen_female]) for x in feature])\n",
    "#     dist_to_male = sum([min([np.square(x - etr).sum() for etr in eigen_male]) for x in feature])\n",
    "#     correct = is_correct_function(dist_to_female, dist_to_male)\n",
    "#     if correct:\n",
    "#         counter += 1\n",
    "# #     print(f'{dist_to_female:.3e}, {dist_to_male:.3e}, {correct}')\n",
    "# print(f'{counter/len(features_test):.3f}')"
   ]
  },
  {
   "cell_type": "code",
   "execution_count": 7,
   "metadata": {},
   "outputs": [],
   "source": [
    "# features_test = get_features_filtered_by_label(X_test, y_test, 'M')\n",
    "# is_correct_function = lambda x, y: x > y\n",
    "\n",
    "# counter = 0\n",
    "# for feature in features_test:\n",
    "#     feature = normalize(feature)\n",
    "#     dist_to_female = sum([min([np.square(x - etr).sum() for etr in eigen_female]) for x in feature])\n",
    "#     dist_to_male = sum([min([np.square(x - etr).sum() for etr in eigen_male]) for x in feature])\n",
    "#     correct = is_correct_function(dist_to_female, dist_to_male)\n",
    "#     if correct:\n",
    "#         counter += 1\n",
    "# #         print(f'{dist_to_female:.3e}, {dist_to_male:.3e}, {correct}')\n",
    "# print(f'{counter/len(features_test):.3f}')"
   ]
  }
 ],
 "metadata": {
  "kernelspec": {
   "display_name": "Python 3",
   "language": "python",
   "name": "python3"
  },
  "language_info": {
   "codemirror_mode": {
    "name": "ipython",
    "version": 3
   },
   "file_extension": ".py",
   "mimetype": "text/x-python",
   "name": "python",
   "nbconvert_exporter": "python",
   "pygments_lexer": "ipython3",
   "version": "3.8.5"
  }
 },
 "nbformat": 4,
 "nbformat_minor": 4
}
